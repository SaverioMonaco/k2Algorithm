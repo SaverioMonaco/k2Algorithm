{
 "cells": [
  {
   "cell_type": "markdown",
   "id": "67950edf-393c-4e31-b1b8-53f99aef372a",
   "metadata": {},
   "source": [
    "# Stat. Lect. 14 - Bayesian Network"
   ]
  },
  {
   "cell_type": "markdown",
   "id": "623207fa-20d0-44e1-9a6d-55390a16ef52",
   "metadata": {},
   "source": [
    "## The transportation means survey\n",
    "- let’s consider an hypothetical survey whose aim is to investigate the usage patterns of different means of transport, with a focus on private cars and public trains or buses\n",
    "- each regular commuting individual fills a questionnaire on the following six discrete variables:\n",
    "    - Age **(A)**: below 30 (young), between 30 and 60 (adult) greater than 60 (senior)\n",
    "    - Sex **(S)**: male (M) or female (F)\n",
    "    - Education **(E)**: highest individual degree between high school (high) and university or higher (uni)\n",
    "    - Occupation **(O)**: weather the individual is an employee (empl) or a self-employedworker (self)\n",
    "    - Residence **(R)**: the size of the city the individual lives in, a (small) or (big) town\n",
    "    - Travel **(T)**: the means of transport flavored by the individual, car, train or bus\n",
    "- the variables can be grouped into demographic indicators (Age and Sex), socioeconomic indicators (Education, Occupation and Residence) and the target of the survey (Travel)"
   ]
  },
  {
   "cell_type": "code",
   "execution_count": 14,
   "id": "012268c1-9db9-4636-b54c-14591d1d11e9",
   "metadata": {},
   "outputs": [],
   "source": [
    "# Installed just by typing install.packages('bnlearn')\n",
    "library(bnlearn)\n",
    "\n",
    "# This was a bit more complicated to install:\n",
    "# install.packages(\"BiocManager\")\n",
    "# BiocManager::install(\"Rgraphviz\")\n",
    "library(Rgraphviz)"
   ]
  },
  {
   "cell_type": "code",
   "execution_count": 5,
   "id": "5f57a202-be50-4c06-b5b6-8829fe6a5c8b",
   "metadata": {},
   "outputs": [],
   "source": [
    "# Setting the nodes\n",
    "tus_dag <- empty.graph(nodes = c(\"A\", \"S\", \"E\", \"O\", \"R\", \"T\"))\n",
    "\n",
    "# Setting the arc (the edges)\n",
    "tus_dag <- set.arc(tus_dag, from = \"A\", to = \"E\")\n",
    "tus_dag <- set.arc(tus_dag, from = \"S\", to = \"E\")\n",
    "tus_dag <- set.arc(tus_dag, from = \"E\", to = \"O\")\n",
    "tus_dag <- set.arc(tus_dag, from = \"E\", to = \"R\")\n",
    "tus_dag <- set.arc(tus_dag, from = \"O\", to = \"T\")\n",
    "tus_dag <- set.arc(tus_dag, from = \"R\", to = \"T\")"
   ]
  },
  {
   "cell_type": "code",
   "execution_count": 6,
   "id": "d7707c7f-550d-419b-b4ee-2f8fd02effa5",
   "metadata": {},
   "outputs": [
    {
     "data": {
      "text/plain": [
       "\n",
       "  Random/Generated Bayesian network\n",
       "\n",
       "  model:\n",
       "   [A][S][E|A:S][O|E][R|E][T|O:R] \n",
       "  nodes:                                 6 \n",
       "  arcs:                                  6 \n",
       "    undirected arcs:                     0 \n",
       "    directed arcs:                       6 \n",
       "  average markov blanket size:           2.67 \n",
       "  average neighbourhood size:            2.00 \n",
       "  average branching factor:              1.00 \n",
       "\n",
       "  generation algorithm:                  Empty \n"
      ]
     },
     "metadata": {},
     "output_type": "display_data"
    }
   ],
   "source": [
    "tus_dag"
   ]
  },
  {
   "cell_type": "code",
   "execution_count": 17,
   "id": "6284915d-b439-45b2-b9bc-2d8edb7920f0",
   "metadata": {},
   "outputs": [
    {
     "data": {
      "image/png": "[encoded data removed]",
      "text/plain": [
       "plot without title"
      ]
     },
     "metadata": {
      "image/png": {
       "height": 420,
       "width": 420
      }
     },
     "output_type": "display_data"
    }
   ],
   "source": [
    "graphviz.plot(tus_dag)"
   ]
  },
  {
   "cell_type": "code",
   "execution_count": 7,
   "id": "0f7bc089-17c0-40d4-bc9e-bc0e6512732f",
   "metadata": {},
   "outputs": [
    {
     "data": {
      "text/html": [
       "<ol class=list-inline>\n",
       "\t<li>'A'</li>\n",
       "\t<li>'S'</li>\n",
       "\t<li>'E'</li>\n",
       "\t<li>'O'</li>\n",
       "\t<li>'R'</li>\n",
       "\t<li>'T'</li>\n",
       "</ol>\n"
      ],
      "text/latex": [
       "\\begin{enumerate*}\n",
       "\\item 'A'\n",
       "\\item 'S'\n",
       "\\item 'E'\n",
       "\\item 'O'\n",
       "\\item 'R'\n",
       "\\item 'T'\n",
       "\\end{enumerate*}\n"
      ],
      "text/markdown": [
       "1. 'A'\n",
       "2. 'S'\n",
       "3. 'E'\n",
       "4. 'O'\n",
       "5. 'R'\n",
       "6. 'T'\n",
       "\n",
       "\n"
      ],
      "text/plain": [
       "[1] \"A\" \"S\" \"E\" \"O\" \"R\" \"T\""
      ]
     },
     "metadata": {},
     "output_type": "display_data"
    }
   ],
   "source": [
    "nodes(tus_dag)"
   ]
  },
  {
   "cell_type": "code",
   "execution_count": 8,
   "id": "a85cdb51-822b-4c98-b1cf-485bda04f29f",
   "metadata": {},
   "outputs": [
    {
     "data": {
      "text/html": [
       "<ol class=list-inline>\n",
       "\t<li>'A'</li>\n",
       "\t<li>'S'</li>\n",
       "\t<li>'O'</li>\n",
       "\t<li>'R'</li>\n",
       "</ol>\n"
      ],
      "text/latex": [
       "\\begin{enumerate*}\n",
       "\\item 'A'\n",
       "\\item 'S'\n",
       "\\item 'O'\n",
       "\\item 'R'\n",
       "\\end{enumerate*}\n"
      ],
      "text/markdown": [
       "1. 'A'\n",
       "2. 'S'\n",
       "3. 'O'\n",
       "4. 'R'\n",
       "\n",
       "\n"
      ],
      "text/plain": [
       "[1] \"A\" \"S\" \"O\" \"R\""
      ]
     },
     "metadata": {},
     "output_type": "display_data"
    }
   ],
   "source": [
    "# The neighbourhood of E\n",
    "nbr(tus_dag, \"E\")"
   ]
  },
  {
   "cell_type": "code",
   "execution_count": 9,
   "id": "691b1e86-d148-44c2-ab40-10bb678191cb",
   "metadata": {},
   "outputs": [
    {
     "data": {
      "text/html": [
       "<ol class=list-inline>\n",
       "\t<li>'A'</li>\n",
       "\t<li>'S'</li>\n",
       "</ol>\n"
      ],
      "text/latex": [
       "\\begin{enumerate*}\n",
       "\\item 'A'\n",
       "\\item 'S'\n",
       "\\end{enumerate*}\n"
      ],
      "text/markdown": [
       "1. 'A'\n",
       "2. 'S'\n",
       "\n",
       "\n"
      ],
      "text/plain": [
       "[1] \"A\" \"S\""
      ]
     },
     "metadata": {},
     "output_type": "display_data"
    }
   ],
   "source": [
    "# The parents of E\n",
    "parents(tus_dag, \"E\")"
   ]
  },
  {
   "cell_type": "code",
   "execution_count": 10,
   "id": "675ffd64-3358-4951-aa93-1ade7e75f178",
   "metadata": {},
   "outputs": [
    {
     "data": {
      "text/html": [
       "<ol class=list-inline>\n",
       "\t<li>'O'</li>\n",
       "\t<li>'R'</li>\n",
       "</ol>\n"
      ],
      "text/latex": [
       "\\begin{enumerate*}\n",
       "\\item 'O'\n",
       "\\item 'R'\n",
       "\\end{enumerate*}\n"
      ],
      "text/markdown": [
       "1. 'O'\n",
       "2. 'R'\n",
       "\n",
       "\n"
      ],
      "text/plain": [
       "[1] \"O\" \"R\""
      ]
     },
     "metadata": {},
     "output_type": "display_data"
    }
   ],
   "source": [
    "# The children of E\n",
    "children(tus_dag, \"E\")"
   ]
  },
  {
   "cell_type": "code",
   "execution_count": 18,
   "id": "c27adea1-dade-4494-86d5-845f8d35f030",
   "metadata": {},
   "outputs": [
    {
     "data": {
      "text/html": [
       "<ol class=list-inline>\n",
       "\t<li>'A'</li>\n",
       "\t<li>'S'</li>\n",
       "</ol>\n"
      ],
      "text/latex": [
       "\\begin{enumerate*}\n",
       "\\item 'A'\n",
       "\\item 'S'\n",
       "\\end{enumerate*}\n"
      ],
      "text/markdown": [
       "1. 'A'\n",
       "2. 'S'\n",
       "\n",
       "\n"
      ],
      "text/plain": [
       "[1] \"A\" \"S\""
      ]
     },
     "metadata": {},
     "output_type": "display_data"
    }
   ],
   "source": [
    "# look for roots (nodes with no parents)\n",
    "root.nodes(tus_dag)"
   ]
  },
  {
   "cell_type": "code",
   "execution_count": 19,
   "id": "15bc6de1-fe09-41c2-b23e-4e89beb08a08",
   "metadata": {},
   "outputs": [
    {
     "data": {
      "text/html": [
       "'T'"
      ],
      "text/latex": [
       "'T'"
      ],
      "text/markdown": [
       "'T'"
      ],
      "text/plain": [
       "[1] \"T\""
      ]
     },
     "metadata": {},
     "output_type": "display_data"
    }
   ],
   "source": [
    "# look for leaves (nodes with no children)\n",
    "leaf.nodes(tus_dag)"
   ]
  },
  {
   "cell_type": "code",
   "execution_count": 20,
   "id": "150cbacf-c89a-4b93-84e1-83c03e785a96",
   "metadata": {},
   "outputs": [
    {
     "data": {
      "text/html": [
       "TRUE"
      ],
      "text/latex": [
       "TRUE"
      ],
      "text/markdown": [
       "TRUE"
      ],
      "text/plain": [
       "[1] TRUE"
      ]
     },
     "metadata": {},
     "output_type": "display_data"
    }
   ],
   "source": [
    "# Another way to create the network is using the model formula interface provided by modelstring\n",
    "dag <- empty.graph(nodes = c(\"A\", \"S\", \"E\", \"O\", \"R\", \"T\") )\n",
    "dag2 <- model2network(\"[A][S][E|A:S][O|E][R|E][T|O:R]\")\n",
    "all.equal(tus_dag, dag2) # Check if the network is the same"
   ]
  },
  {
   "cell_type": "code",
   "execution_count": 21,
   "id": "a77a4160-93ba-448c-a04c-80beca7f7ab0",
   "metadata": {},
   "outputs": [
    {
     "data": {
      "image/png": "[encoded data removed]",
      "text/plain": [
       "plot without title"
      ]
     },
     "metadata": {
      "image/png": {
       "height": 420,
       "width": 420
      }
     },
     "output_type": "display_data"
    }
   ],
   "source": [
    "graphviz.plot(dag2)"
   ]
  },
  {
   "cell_type": "code",
   "execution_count": 22,
   "id": "cc231c71-8c0c-4311-90d6-eb74301f2c83",
   "metadata": {},
   "outputs": [],
   "source": [
    "A_lvl <- c(\"young\", \"adult\", \"old\")\n",
    "S_lvl <- c(\"M\", \"F\")\n",
    "E_lvl <- c(\"high\", \"uni\")\n",
    "O_lvl <- c(\"emp\", \"self\")\n",
    "R_lvl <- c(\"small\", \"big\")\n",
    "T_lvl <- c(\"car\", \"train\", \"other\")"
   ]
  },
  {
   "cell_type": "code",
   "execution_count": 26,
   "id": "60224278-e5f6-49c4-b3c0-79fec47f705f",
   "metadata": {},
   "outputs": [],
   "source": [
    "# Specify the joint probabilities\n",
    "\n",
    "A_prob <- array(c(0.30, 0.50, 0.20), dim = 3, \n",
    "                dimnames = list(A = A_lvl))\n",
    "\n",
    "S_prob <- array(c(0.60, 0.40), dim = 2, \n",
    "                dimnames = list(S = S_lvl))\n",
    "\n",
    "O_prob <- array(c(0.96, 0.04, 0.92, 0.08), dim = c(2, 2), \n",
    "                dimnames = list(O = O_lvl , E = E_lvl))\n",
    "\n",
    "R_prob <- matrix (c(0.25, 0.75, 0.20, 0.80), ncol = 2, \n",
    "                dimnames = list(R = R_lvl , E = E_lvl))\n",
    "\n",
    "E_prob <- array(c(0.75, 0.25, 0.72, 0.28, 0.88, 0.12, 0.64, 0.36, 0.70, 0.30, 0.90, 0.10),\n",
    "               dim = c(2, 3, 2), dimnames = list(E = E_lvl, A = A_lvl, S = S_lvl))\n",
    "\n",
    "T_prob <- array(c(0.48, 0.42, 0.10, 0.56, 0.36, 0.08, 0.58, 0.24, 0.18, 0.70, 0.21, 0.09),\n",
    "               dim = c(3, 2, 2), dimnames = list(T = T_lvl, O = O_lvl, R = R_lvl))"
   ]
  },
  {
   "cell_type": "code",
   "execution_count": 54,
   "id": "52371acf-7820-4cbf-b9f5-c981e69b214b",
   "metadata": {},
   "outputs": [],
   "source": [
    "# Associate the probabilities to the BN model\n",
    "cpt <- list(A = A_prob, S = S_prob, E = E_prob, O = O_prob, R = R_prob, T = T_prob)\n",
    "bn <- custom.fit(tus_dag, cpt)"
   ]
  },
  {
   "cell_type": "code",
   "execution_count": 97,
   "id": "672b66b7-b7b9-4842-9aa2-c4fa3673247e",
   "metadata": {},
   "outputs": [
    {
     "data": {
      "text/html": [
       "<table>\n",
       "<thead><tr><th scope=col>A</th><th scope=col>R</th><th scope=col>E</th><th scope=col>O</th><th scope=col>S</th><th scope=col>T</th></tr></thead>\n",
       "<tbody>\n",
       "\t<tr><td>adult</td><td>big  </td><td>high </td><td>emp  </td><td>F    </td><td>car  </td></tr>\n",
       "\t<tr><td>adult</td><td>small</td><td>uni  </td><td>emp  </td><td>M    </td><td>car  </td></tr>\n",
       "\t<tr><td>adult</td><td>big  </td><td>uni  </td><td>emp  </td><td>F    </td><td>train</td></tr>\n",
       "</tbody>\n",
       "</table>\n"
      ],
      "text/latex": [
       "\\begin{tabular}{r|llllll}\n",
       " A & R & E & O & S & T\\\\\n",
       "\\hline\n",
       "\t adult & big   & high  & emp   & F     & car  \\\\\n",
       "\t adult & small & uni   & emp   & M     & car  \\\\\n",
       "\t adult & big   & uni   & emp   & F     & train\\\\\n",
       "\\end{tabular}\n"
      ],
      "text/markdown": [
       "\n",
       "| A | R | E | O | S | T |\n",
       "|---|---|---|---|---|---|\n",
       "| adult | big   | high  | emp   | F     | car   |\n",
       "| adult | small | uni   | emp   | M     | car   |\n",
       "| adult | big   | uni   | emp   | F     | train |\n",
       "\n"
      ],
      "text/plain": [
       "  A     R     E    O   S T    \n",
       "1 adult big   high emp F car  \n",
       "2 adult small uni  emp M car  \n",
       "3 adult big   uni  emp F train"
      ]
     },
     "metadata": {},
     "output_type": "display_data"
    }
   ],
   "source": [
    "survey <- read.table(\"survey.txt\", header = TRUE, stringsAsFactors = TRUE)\n",
    "head(survey, n=3)"
   ]
  },
  {
   "cell_type": "markdown",
   "id": "cd94d767-5a57-425d-8029-fabd53685528",
   "metadata": {},
   "source": [
    "We can factorize the global distribution:\n",
    "\n",
    "$$P(A,S,E,O,R,T)=P(A)\\cdot P(S) \\cdot P(E|A,S)\\cdot P(O|E) \\cdot P(R|E) \\cdot P(T|O,R)$$\n",
    "\n",
    "The conditional probabilities can be estimated looking at the corresponding empirical frequencies in the data set\n",
    "\n",
    "$$P(O=emp|E=high)=\\frac{P(O=emp,E=high)}{P(E=high)}$$"
   ]
  },
  {
   "cell_type": "code",
   "execution_count": 101,
   "id": "fae46653-9f26-4ff6-bfac-826426adaff5",
   "metadata": {},
   "outputs": [],
   "source": [
    "travel_dag <- model2network(\"[A][S][E|A:S][O|E][R|E][T|O:R]\")\n",
    "\n",
    "bn.mle <- bn.fit(travel_dag, data = survey, method = \"mle\")\n",
    "\n",
    "# alternative method\n",
    "bn.bayes <- bn.fit(travel_dag, data = survey, method = \"bayes\", iss = 10)"
   ]
  },
  {
   "cell_type": "code",
   "execution_count": 102,
   "id": "fd0d07f1-694f-4b47-a2a4-0f4cf8b196dc",
   "metadata": {},
   "outputs": [
    {
     "name": "stderr",
     "output_type": "stream",
     "text": [
      "Loading required namespace: lattice\n",
      "\n"
     ]
    },
    {
     "data": {
      "image/png": "[encoded data removed]",
      "text/plain": [
       "plot without title"
      ]
     },
     "metadata": {
      "image/png": {
       "height": 420,
       "width": 420
      }
     },
     "output_type": "display_data"
    }
   ],
   "source": [
    "# We can plot the probabilities associated to each link of the network\n",
    "bn.fit.barchart(bn.bayes$E, main = \"Education\", xlab = \"P(E|A,S)\", ylab = \"\")"
   ]
  },
  {
   "cell_type": "code",
   "execution_count": 103,
   "id": "57c373f2-4922-444b-9e41-1769d90d84b6",
   "metadata": {},
   "outputs": [
    {
     "data": {
      "image/png": "[encoded data removed]",
      "text/plain": [
       "plot without title"
      ]
     },
     "metadata": {
      "image/png": {
       "height": 420,
       "width": 420
      }
     },
     "output_type": "display_data"
    }
   ],
   "source": [
    "bn.fit.barchart(bn.bayes$T, main = \"Travel\", xlab = \"P(T|O,R)\", ylab = \"\")"
   ]
  },
  {
   "cell_type": "code",
   "execution_count": 105,
   "id": "b9f89f1d-c21e-4191-8cdc-49c9be89edc5",
   "metadata": {},
   "outputs": [],
   "source": [
    "# Investigating a DAG structure from data"
   ]
  },
  {
   "cell_type": "code",
   "execution_count": 106,
   "id": "cbb3f455-f27b-4f1f-bb5e-25b27d43c5cf",
   "metadata": {},
   "outputs": [
    {
     "data": {
      "text/plain": [
       "\n",
       "\tMutual Information (disc.)\n",
       "\n",
       "data:  T ~ E | O + R\n",
       "mi = 9.8836, df = 8, p-value = 0.2733\n",
       "alternative hypothesis: true value is greater than 0\n"
      ]
     },
     "metadata": {},
     "output_type": "display_data"
    }
   ],
   "source": [
    "ci.test(\"T\", \"E\", c(\"O\",\"R\"), test = \"mi\", data = survey)"
   ]
  },
  {
   "cell_type": "code",
   "execution_count": 107,
   "id": "f8d7c55b-925d-451d-811a-d597bc5e96d9",
   "metadata": {},
   "outputs": [
    {
     "data": {
      "text/plain": [
       "\n",
       "\tPearson's X^2\n",
       "\n",
       "data:  T ~ E | O + R\n",
       "x2 = 8.2375, df = 8, p-value = 0.4106\n",
       "alternative hypothesis: true value is greater than 0\n"
      ]
     },
     "metadata": {},
     "output_type": "display_data"
    }
   ],
   "source": [
    "ci.test(\"T\", \"E\", c(\"O\",\"R\"), test = \"x2\", data = survey)"
   ]
  },
  {
   "cell_type": "code",
   "execution_count": 108,
   "id": "9593412c-6268-4c45-836a-b22802d79f13",
   "metadata": {},
   "outputs": [],
   "source": [
    "# Evaluate scores"
   ]
  },
  {
   "cell_type": "code",
   "execution_count": 109,
   "id": "a9d3b127-b2e4-4c26-9872-668f4833c901",
   "metadata": {},
   "outputs": [
    {
     "data": {
      "text/html": [
       "-2012.68674837292"
      ],
      "text/latex": [
       "-2012.68674837292"
      ],
      "text/markdown": [
       "-2012.68674837292"
      ],
      "text/plain": [
       "[1] -2012.687"
      ]
     },
     "metadata": {},
     "output_type": "display_data"
    }
   ],
   "source": [
    "# Bayesian Information Criterion\n",
    "score(travel_dag, data = survey, type = \"bic\")"
   ]
  },
  {
   "cell_type": "code",
   "execution_count": 110,
   "id": "0c885b82-befd-4cae-bd4d-2f050913567a",
   "metadata": {},
   "outputs": [
    {
     "data": {
      "text/html": [
       "-2015.64664109131"
      ],
      "text/latex": [
       "-2015.64664109131"
      ],
      "text/markdown": [
       "-2015.64664109131"
      ],
      "text/plain": [
       "[1] -2015.647"
      ]
     },
     "metadata": {},
     "output_type": "display_data"
    }
   ],
   "source": [
    "# Bayesian Dirichlet equivalent uniform\n",
    "score(travel_dag, data = survey, type = \"bde\")"
   ]
  },
  {
   "cell_type": "code",
   "execution_count": null,
   "id": "ba4e000d-4ca7-4943-b255-d1fbfc7351a6",
   "metadata": {},
   "outputs": [],
   "source": []
  }
 ],
 "metadata": {
  "kernelspec": {
   "display_name": "R",
   "language": "R",
   "name": "ir"
  },
  "language_info": {
   "codemirror_mode": "r",
   "file_extension": ".r",
   "mimetype": "text/x-r-source",
   "name": "R",
   "pygments_lexer": "r",
   "version": "3.6.3"
  }
 },
 "nbformat": 4,
 "nbformat_minor": 5
}
