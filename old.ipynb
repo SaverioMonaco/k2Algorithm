{
 "cells": [
  {
   "cell_type": "markdown",
   "id": "ed2a1ac4-0954-4abe-bac7-3fbba307c4f5",
   "metadata": {},
   "source": [
    "# Deprecated stuff"
   ]
  },
  {
   "cell_type": "code",
   "execution_count": null,
   "id": "5ac137f1-b074-42e9-93f7-1275001ea37e",
   "metadata": {},
   "outputs": [],
   "source": [
    "library(tidyverse)\n",
    "\n",
    "# Installed just by typing install.packages('bnlearn')\n",
    "library(bnlearn)\n",
    "\n",
    "# This was a bit more complicated to install:\n",
    "# install.packages(\"BiocManager\")\n",
    "# BiocManager::install(\"Rgraphviz\")\n",
    "library(Rgraphviz)"
   ]
  },
  {
   "cell_type": "markdown",
   "id": "87696206-da51-4ddb-bc9e-41e1de87e727",
   "metadata": {},
   "source": [
    "The following two function compute the probability P(B,D), however they are specific for two particular Bayesian Network. They were made just as a basis for the general function present in project.ipynb"
   ]
  },
  {
   "cell_type": "code",
   "execution_count": null,
   "id": "2e5818f1-a16b-4aa7-8792-f05c1bc82f2a",
   "metadata": {},
   "outputs": [],
   "source": [
    "ex <- read.table(\"./dataset/cooper.txt\", header = TRUE, stringsAsFactors = TRUE)\n",
    "\n",
    "# This function computes the humongous formula for P(B,D)\n",
    "# This function is not general, I'm assuming that the variable Xj depends only on Xj-1.\n",
    "# Of course it works for this particular case\n",
    "ex.probmodel1 <- function(D)\n",
    "    {\n",
    "        nvar <- length(names(D))\n",
    "        \n",
    "        # For n = 1\n",
    "        col1 <- dplyr::pull(D, 1)\n",
    "        nunique1 <- length(unique(col1))\n",
    "        prod <- factorial(nunique1-1)\n",
    "        den <- nunique1 - 1\n",
    "        \n",
    "        for(i in 1:nunique1)\n",
    "            {\n",
    "                prod <- prod*factorial(length(col1[col1 == unique(col1)[i]]))\n",
    "                den <- den + length(col1[col1 == unique(col1)[i]])\n",
    "            }\n",
    "        prod <- prod/factorial(den)\n",
    "    \n",
    "        # For n >= 1\n",
    "        for(i in 2:nvar)\n",
    "            {\n",
    "                col <- dplyr::pull(D, i)\n",
    "                prevcol <- dplyr::pull(D, i-1)\n",
    "                \n",
    "                r <- length(unique(col))\n",
    "                q <- length(unique(prevcol))\n",
    "                for(j in 1:q)\n",
    "                    {\n",
    "                        nij <- 0 \n",
    "                        for(k in 1:r)\n",
    "                            {\n",
    "                                nijk <- sum(prevcol == unique(prevcol)[j] & col == unique(col)[k])\n",
    "                                nij <- nij + nijk\n",
    "                                prod <- prod*factorial(nijk)\n",
    "                            }\n",
    "                    \n",
    "                        prod <- prod*factorial(r - 1)/factorial(nij + r - 1)\n",
    "                    }\n",
    "                \n",
    "            }\n",
    "    \n",
    "        return(prod)\n",
    "    }\n",
    "\n",
    "\n",
    "# This function is very similar for the previous one but it's adapted for this other network structure\n",
    "ex.probmodel2 <- function(D)\n",
    "    {\n",
    "        nvar <- length(names(D))\n",
    "        \n",
    "        # For n = 1\n",
    "        col1 <- dplyr::pull(D, 1)\n",
    "        nunique1 <- length(unique(col1))\n",
    "        prod <- factorial(nunique1-1)\n",
    "        den <- nunique1 - 1\n",
    "        \n",
    "        for(i in 1:nunique1)\n",
    "            {\n",
    "                prod <- prod*factorial(length(col1[col1 == unique(col1)[i]]))\n",
    "                den <- den + length(col1[col1 == unique(col1)[i]])\n",
    "            }\n",
    "        prod <- prod/factorial(den)\n",
    "    \n",
    "        # For n >= 1\n",
    "        for(i in 2:nvar)\n",
    "            {\n",
    "                col <- dplyr::pull(D, i)\n",
    "                prevcol <- dplyr::pull(D, 1)\n",
    "                \n",
    "                r <- length(unique(col))\n",
    "                q <- length(unique(prevcol))\n",
    "                for(j in 1:q)\n",
    "                    {\n",
    "                        nij <- 0 \n",
    "                        for(k in 1:r)\n",
    "                            {\n",
    "                                nijk <- sum(prevcol == unique(prevcol)[j] & col == unique(col)[k])\n",
    "                                nij <- nij + nijk\n",
    "                                prod <- prod*factorial(nijk)\n",
    "                            }\n",
    "                    \n",
    "                        prod <- prod*factorial(r - 1)/factorial(nij + r - 1)\n",
    "                    }\n",
    "                \n",
    "            }\n",
    "    \n",
    "        return(prod)\n",
    "    }\n"
   ]
  },
  {
   "cell_type": "code",
   "execution_count": null,
   "id": "d619aa17-0c1b-452a-9508-1fca6d8ec66c",
   "metadata": {},
   "outputs": [],
   "source": [
    "ex.bn1 <- model2network(\"[X1][X2|X1][X3|X2]\")\n",
    "ex.bn2 <- model2network(\"[X1][X2|X1][X3|X1]\")"
   ]
  },
  {
   "cell_type": "code",
   "execution_count": null,
   "id": "fb55b089-a36f-4bf9-8f1c-2a1690514ea9",
   "metadata": {},
   "outputs": [],
   "source": [
    "graphviz.plot(ex.bn1,layout = 'neato')\n",
    "cat('P(B1,D)=P(B1)',ex.probmodel1(ex))"
   ]
  },
  {
   "cell_type": "code",
   "execution_count": null,
   "id": "12426e83-5286-44e9-9bf1-b286414a03a7",
   "metadata": {},
   "outputs": [],
   "source": [
    "graphviz.plot(ex.bn2)\n",
    "cat('P(B2,D)=P(B2)',ex.probmodel2(ex))"
   ]
  },
  {
   "cell_type": "code",
   "execution_count": null,
   "id": "1a686520-447b-4048-92e1-e53b9056ce99",
   "metadata": {},
   "outputs": [],
   "source": []
  }
 ],
 "metadata": {
  "kernelspec": {
   "display_name": "R",
   "language": "R",
   "name": "ir"
  },
  "language_info": {
   "codemirror_mode": "r",
   "file_extension": ".r",
   "mimetype": "text/x-r-source",
   "name": "R",
   "pygments_lexer": "r",
   "version": "3.6.3"
  }
 },
 "nbformat": 4,
 "nbformat_minor": 5
}
