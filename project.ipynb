{
 "cells": [
  {
   "cell_type": "markdown",
   "metadata": {},
   "source": [
    "# Learning the topology of a Bayesian Network from a database of cases using the K2 algorithm"
   ]
  },
  {
   "cell_type": "code",
   "execution_count": 1,
   "metadata": {},
   "outputs": [
    {
     "name": "stderr",
     "output_type": "stream",
     "text": [
      "── \u001b[1mAttaching packages\u001b[22m ─────────────────────────────────────── tidyverse 1.3.0 ──\n",
      "\n",
      "\u001b[32m✔\u001b[39m \u001b[34mggplot2\u001b[39m 3.2.1     \u001b[32m✔\u001b[39m \u001b[34mpurrr  \u001b[39m 0.3.3\n",
      "\u001b[32m✔\u001b[39m \u001b[34mtibble \u001b[39m 3.1.0     \u001b[32m✔\u001b[39m \u001b[34mdplyr  \u001b[39m 1.0.5\n",
      "\u001b[32m✔\u001b[39m \u001b[34mtidyr  \u001b[39m 1.1.3     \u001b[32m✔\u001b[39m \u001b[34mstringr\u001b[39m 1.4.0\n",
      "\u001b[32m✔\u001b[39m \u001b[34mreadr  \u001b[39m 1.4.0     \u001b[32m✔\u001b[39m \u001b[34mforcats\u001b[39m 0.5.1\n",
      "\n",
      "── \u001b[1mConflicts\u001b[22m ────────────────────────────────────────── tidyverse_conflicts() ──\n",
      "\u001b[31m✖\u001b[39m \u001b[34mdplyr\u001b[39m::\u001b[32mfilter()\u001b[39m masks \u001b[34mstats\u001b[39m::filter()\n",
      "\u001b[31m✖\u001b[39m \u001b[34mdplyr\u001b[39m::\u001b[32mlag()\u001b[39m    masks \u001b[34mstats\u001b[39m::lag()\n",
      "\n",
      "Loading required package: graph\n",
      "\n",
      "Loading required package: BiocGenerics\n",
      "\n",
      "Loading required package: parallel\n",
      "\n",
      "\n",
      "Attaching package: ‘BiocGenerics’\n",
      "\n",
      "\n",
      "The following objects are masked from ‘package:parallel’:\n",
      "\n",
      "    clusterApply, clusterApplyLB, clusterCall, clusterEvalQ,\n",
      "    clusterExport, clusterMap, parApply, parCapply, parLapply,\n",
      "    parLapplyLB, parRapply, parSapply, parSapplyLB\n",
      "\n",
      "\n",
      "The following objects are masked from ‘package:bnlearn’:\n",
      "\n",
      "    path, score\n",
      "\n",
      "\n",
      "The following objects are masked from ‘package:dplyr’:\n",
      "\n",
      "    combine, intersect, setdiff, union\n",
      "\n",
      "\n",
      "The following objects are masked from ‘package:stats’:\n",
      "\n",
      "    IQR, mad, sd, var, xtabs\n",
      "\n",
      "\n",
      "The following objects are masked from ‘package:base’:\n",
      "\n",
      "    anyDuplicated, append, as.data.frame, basename, cbind, colnames,\n",
      "    dirname, do.call, duplicated, eval, evalq, Filter, Find, get, grep,\n",
      "    grepl, intersect, is.unsorted, lapply, Map, mapply, match, mget,\n",
      "    order, paste, pmax, pmax.int, pmin, pmin.int, Position, rank,\n",
      "    rbind, Reduce, rownames, sapply, setdiff, sort, table, tapply,\n",
      "    union, unique, unsplit, which, which.max, which.min\n",
      "\n",
      "\n",
      "\n",
      "Attaching package: ‘graph’\n",
      "\n",
      "\n",
      "The following objects are masked from ‘package:bnlearn’:\n",
      "\n",
      "    degree, nodes, nodes<-\n",
      "\n",
      "\n",
      "The following object is masked from ‘package:stringr’:\n",
      "\n",
      "    boundary\n",
      "\n",
      "\n",
      "Loading required package: grid\n",
      "\n"
     ]
    }
   ],
   "source": [
    "library(tidyverse)\n",
    "\n",
    "# Installed just by typing install.packages('bnlearn')\n",
    "\n",
    "#install.packages('bnlearn')\n",
    "library(bnlearn)\n",
    "\n",
    "# This was a bit more complicated to install:\n",
    "# install.packages(\"BiocManager\")\n",
    "# BiocManager::install(\"Rgraphviz\")\n",
    "\n",
    "#install.packages('BiocManager')\n",
    "#BiocManager::install('Rgraphviz')\n",
    "library(Rgraphviz)"
   ]
  },
  {
   "cell_type": "markdown",
   "metadata": {},
   "source": [
    "## 1. Implement the algorithm K2 in R and check its performances with the test data set given in [2]"
   ]
  },
  {
   "cell_type": "markdown",
   "metadata": {},
   "source": [
    "The problem of finding the best belief-network structure $B_S$ is a maximization problem of the quantity:\n",
    "\n",
    "$$P(B_S|D)\\propto P(B_S,D)$$\n",
    "\n",
    "$$\\max{\\left[P(B_S|D)\\right]}\\leftrightarrow \\max{\\left[P(B_S,D)\\right]}$$"
   ]
  },
  {
   "cell_type": "markdown",
   "metadata": {},
   "source": [
    "Robinson formula computes the number of possible Networks given the number of nodes. It is relevant to show how quickly the problem tackled scales when the number of nodes _n_ increases.\n",
    "\n",
    "As shown in the next cell, the complexity of this task is exponential."
   ]
  },
  {
   "cell_type": "code",
   "execution_count": 2,
   "metadata": {},
   "outputs": [
    {
     "name": "stdout",
     "output_type": "stream",
     "text": [
      "For n= 1 the number of possible structures is:  1 \n",
      "For n= 2 the number of possible structures is:  3 \n",
      "For n= 3 the number of possible structures is:  25 \n",
      "For n= 4 the number of possible structures is:  543 \n",
      "For n= 5 the number of possible structures is:  29281 \n",
      "For n= 6 the number of possible structures is:  3781503 \n",
      "For n= 7 the number of possible structures is:  1138779265 \n",
      "For n= 8 the number of possible structures is:  783702329343 \n"
     ]
    }
   ],
   "source": [
    "# Robinson recursive formula to compute the number of possible belief-network stuctures\n",
    "# that contains n nodes\n",
    "# From: A Bayesian Method for the Induction of Probabilistic Networks from Data, p. 319\n",
    "n.networks.structure <- function(n)\n",
    "    {\n",
    "        if(n <= 1){return(1)}\n",
    "        else\n",
    "            {\n",
    "                i <- 1\n",
    "                res <- 0\n",
    "                while(i <= n)\n",
    "                    {\n",
    "                        res <- res + ((i%%2)*2 - 1)*(choose(n,i)*(2^(i*(n-i)))*n.networks.structure(n-i))\n",
    "                        i <- i + 1\n",
    "                    }\n",
    "\n",
    "                return(res)\n",
    "            }\n",
    "    }\n",
    "\n",
    "for(i in 1:8)\n",
    "    {\n",
    "        cat('For n=',i,'the number of possible structures is: ',n.networks.structure(i),'\\n')\n",
    "    }\n"
   ]
  },
  {
   "cell_type": "markdown",
   "metadata": {},
   "source": [
    " \n",
    " \n",
    "\n",
    "\\\n",
    "$$P(B_S,D)=P(B_S)\\prod_{i=1}^n\\prod_{j=1}^{q_i}\\frac{(r_i-1)!}{(N_{ij}+r_i - 1)!}\\prod_{k=1}^{r_i}N_{ijk}! \\tag{1}$$\n",
    "\n",
    "* $P(B_S)$ is the prior probability of the model, if we assume every model to be as likely as the others then it is just a constant\n",
    "* $r_i$ is the number of possible value assignments of the i-th variable\n",
    "* $\\pi_i$ is the set of parents for the node i\n",
    "* $q_i$ the number of unique instantiations of $\\pi_i$ relative to D\n",
    "* $w_{ij}$ denotes the jth unique instantiation of $\\pi_i$ relative to D\n",
    "* $N_{ijk}$ is the number of cases in D in which the variable $x_i$ has the value $v_{ik}$ and $\\pi_i$ is instantiated as $w_{ij}$\n",
    "* $N_{ij}=\\sum_{k=1}^{r_i}N_{ijk}$"
   ]
  },
  {
   "cell_type": "markdown",
   "metadata": {},
   "source": [
    "**My attempt of explaining better the formula:**\n",
    "Consider the following Bayesian Network:\n",
    "\n",
    "<img src=\"https://i.ibb.co/n3hgVxm/RCOv-Zs-QPAZmc-Sym-L.png\" width=\"300\"/>\n",
    "\n",
    "An example of this Network can be:\n",
    "* **X1**: it has rained\n",
    "* **X2**: the automatic dripper was recently on\n",
    "* **X3**: I slip and fall\n",
    "* **X4**: I arrive late to work\n",
    "\n",
    "The event _slip and fall_ depends on wether the floor is wet. And _falling_ may have some causality on _arriving late to work_.\\\n",
    "Let D be the Data about these events,  consider this set:\n",
    "\n",
    "| X1 | X2 | X3 | X4 |\n",
    "|----|----|----|----|\n",
    "| 0  | 0  | 0  | 0  |\n",
    "| 0  | 0  | 0  | 1  |\n",
    "| 0  | 1  | 0  | 0  |\n",
    "| 1  | 1  | 1  | 1  |\n",
    "| 0  | 1  | 1  | 1  |\n",
    "| 1  | 0  | 1  | 1  |\n",
    "\n",
    "\n",
    "The probability of the Bayesian Network to be true given the data is proportional to $P(B_S,D)$ given by the formula (1).\n",
    "\n",
    "For simplicity, consider the events of each node being only 0 or 1:\n",
    "$$X1,X2,X3,X4\\, \\in\\,\\{0,1\\} \\qquad\\left(=\\,\\{TRUE,FALSE\\}\\right)$$"
   ]
  },
  {
   "cell_type": "markdown",
   "metadata": {},
   "source": [
    "The first term of the $\\Pi$ goes through each nodes, let us explicit them one by one:\n",
    "* $n=1$\n",
    "    * $r_1=2;\\qquad$  X1 can be either 0 or 1\n",
    "    * $\\pi_1 = \\emptyset;\\qquad$ since X1 has no parents\n",
    "    * $q_1 = 1;\\qquad$ Since $\\pi_1=\\emptyset$, the possible rearrangments are just one\n",
    "    * $N_{1jk};\\qquad$ If the node has no parents, this ends up being the counts of unique terms\n",
    "    * $N_{1j};\\qquad$ always ends up being the sum of the terms inside the last $\\Pi$\n",
    "    \n",
    "    $$\\frac{(2-1)!}{(N_{11}+2 - 1)!}\\prod_{k=1}^{2}N_{11k}! = \\frac{\\prod_{k=1}^{2}N_{11k}!}{(N_{11} +1)!}=$$\n",
    "    (For k=1 we count the zeros, for k=2 we count the ones)\n",
    "    $$=\\frac{4!2!}{(4+2 +1)!}=0.0095$$"
   ]
  },
  {
   "cell_type": "markdown",
   "metadata": {},
   "source": [
    "* $n=2$\n",
    "    Exactly the same, only the terms $N_{ij}$ and $N_{ijk}$ change\n",
    "    $$\\frac{(2-1)!}{(N_{21}+2 - 1)!}\\prod_{k=1}^{2}N_{21k}! = \\frac{\\prod_{k=1}^{2}N_{21k}!}{(N_{21} +1)!}=\\frac{3!3!}{(3+3+1)!}=0.0071$$"
   ]
  },
  {
   "cell_type": "markdown",
   "metadata": {},
   "source": [
    "* $n=3$\\\n",
    "    X3 has parents X1 and X2, this means:\n",
    "    * $r_3=2;\\qquad$  X3 can be either 0 or 1\n",
    "    * $\\pi_3 = \\{X1,X2\\};$\n",
    "    * $q_3 = 4;\\qquad$ Since both X1 and X2 can assume two values, the number of all possible permutation of the unique elements of X1 and X2 are 4\n",
    "    * $w_{3j}=\\{ \\{0,0\\},\\{0,1\\},\\{1,0\\},\\{1,1\\}\\}$\n",
    "    * $N_{3jk};\\qquad$ Is the counts of times in D that X3 assumes the k-th value, and $\\{X1,X2\\}$ assume the j-th value from $w_{3j}$\n",
    "    \n",
    "    $$\\prod_{j=1}^{4}\\frac{(2-1)!}{(N_{3j}+ 2- 1)!}\\prod_{k=1}^{2}N_{3jk}! = \\prod_{j=1}^{4}\\frac{\\prod_{k=1}^{2}N_{3jk}!}{(N_{3j}+ 1)!}$$\n",
    "     * j = 1\\\n",
    "     We consider when X1 and X2 assume the value $w_{31}=\\{0,0\\}$\n",
    "     When \\{X1,X2\\}=\\{0,0\\}, X3 is 0 twice (k=1) and is never 1 (k=2)\n",
    "     \n",
    "     * j = 2\\\n",
    "     We consider when X1 and X2 assume the value $w_{31}=\\{0,1\\}$\n",
    "     When \\{X1,X2\\}=\\{0,1\\}, X3 is 0 once (k=1) and once (k=2)\n",
    "     \n",
    "     * and so on...\n",
    "     \n",
    "     $$\\prod_{j=1}^{4}\\frac{\\prod_{k=1}^{2}N_{3jk}!}{(N_{3j}+ 1)!}=\\frac{0!2!}{3!}\\frac{1!1!}{3!}\\frac{0!1!}{2!}\\frac{0!1!}{2!}=0.028$$"
   ]
  },
  {
   "cell_type": "markdown",
   "metadata": {},
   "source": [
    "* $n=4$\\\n",
    "    For X4 the computation is easier than for X3 because there's only one parent node, meaning that q is only 2:\n",
    "    $$\\prod_{j=1}^{2}\\frac{(2-1)!}{(N_{4j}+ 2- 1)!}\\prod_{k=1}^{2}N_{4jk}!=\\prod_{j=1}^{2}\\frac{ \\prod_{k=1}^{2}N_{4jk}! }{(N_{4j}+ 2- 1)!}=$$\n",
    "    \n",
    "    To compute $N_{4jk}$ we must count the times X4 is 0/1 when X3 assumes the values 0 and 1:\n",
    "    \n",
    "    $$=\\frac{2!1!}{4!}\\frac{3!0!}{4!}=0.021$$"
   ]
  },
  {
   "cell_type": "code",
   "execution_count": 3,
   "metadata": {},
   "outputs": [
    {
     "data": {
      "image/png": "[encoded data removed]",
      "text/plain": [
       "plot without title"
      ]
     },
     "metadata": {
      "image/png": {
       "height": 420,
       "width": 420
      }
     },
     "output_type": "display_data"
    }
   ],
   "source": [
    "toy <- read.table(\"./dataset/toyexample.txt\", header = TRUE, stringsAsFactors = TRUE)\n",
    "toy.bn <- model2network(\"[X1][X2][X3|X1:X2][X4|X3]\")\n",
    "graphviz.plot(toy.bn)"
   ]
  },
  {
   "cell_type": "code",
   "execution_count": 4,
   "metadata": {},
   "outputs": [],
   "source": [
    "############ AUXILIARY FUNCTIONS ###############\n",
    "\n",
    "prob.noparents <- function(D,namecol,prod)\n",
    "    {\n",
    "        lprod <- log(prod)\n",
    "        col <- dplyr::pull(D, namecol)\n",
    "        nunique <- length(unique(col))\n",
    "        lprod <- lprod+lfactorial(nunique-1)\n",
    "        den <- nunique - 1\n",
    "    \n",
    "        for(i in 1:nunique)\n",
    "            {\n",
    "                lprod <- lprod + lfactorial(length(col[col == unique(col)[i]]))\n",
    "                den <- den + length(col[col == unique(col)[i]])\n",
    "            }\n",
    "        lprod <- lprod-lfactorial(den)\n",
    "\n",
    "        prod <- exp(lprod)\n",
    "    \n",
    "        return(prod)\n",
    "    }\n",
    "\n",
    "is.eq <- function(row1,row2){return(row1 == row2)}\n",
    "\n",
    "prob.parents <- function(BN,D,namecol,prod)\n",
    "    {\n",
    "        lprod <- log(prod)\n",
    "        col <- dplyr::pull(D, namecol)\n",
    "        parents <- parents(BN, namecol)\n",
    "        n.parents <- length(parents)\n",
    "        col.parents <- D[parents]\n",
    "        r <- length(unique(col))\n",
    "\n",
    "        q <- 1\n",
    "        combined <- list()\n",
    "        for(j in 1:length(parents))\n",
    "            {\n",
    "                q <- q*length(unique(col.parents[,j]))\n",
    "                combined[[j]] <- unique(col.parents[,j])    \n",
    "            }\n",
    "        combinations <- do.call(expand.grid, combined)\n",
    "        # for j in 1:qi\n",
    "        for(j in 1:q)\n",
    "            {\n",
    "                w  <- combinations[j,]\n",
    "                # Compute Nijk!\n",
    "                nij <- 0\n",
    "                for(k in 1:r)\n",
    "                    {\n",
    "                        wij <- c(w,unique(col)[k])\n",
    "                        nijk <- sum(apply(apply(cbind(col.parents, col),1,is.eq,row2=wij),2,all))\n",
    "                        nij <- nij + nijk\n",
    "                        lprod <- lprod + lfactorial(nijk)\n",
    "                    }\n",
    "                lprod <- lprod + lfactorial(r - 1) - lfactorial(nij + r - 1)\n",
    "            }\n",
    "        prod <- exp(lprod)\n",
    "        return(prod)\n",
    "\n",
    "    }\n",
    "\n",
    "#############################################"
   ]
  },
  {
   "cell_type": "code",
   "execution_count": 5,
   "metadata": {},
   "outputs": [],
   "source": [
    "prob.model <- function(BN,D)\n",
    "    {\n",
    "        nvar <- length(nodes(BN))\n",
    "        prod <- 1\n",
    "        for(i in 1:nvar)\n",
    "            {\n",
    "                if(length(parents(BN, nodes(BN)[i])) == 0)\n",
    "                    {prod <- prob.noparents(D,nodes(BN)[i],prod)}\n",
    "                else\n",
    "                    {prod <- prob.parents(BN,D,nodes(BN)[i],prod)}\n",
    "                \n",
    "            }\n",
    "    \n",
    "        return(prod)\n",
    "    }"
   ]
  },
  {
   "cell_type": "markdown",
   "metadata": {},
   "source": [
    "Here we check if the function wrote gives back the same result present in the paper Cooper for the same Bayesian Networks and the same Data Samples"
   ]
  },
  {
   "cell_type": "code",
   "execution_count": 6,
   "metadata": {},
   "outputs": [],
   "source": [
    "ex <- read.table(\"./dataset/cooper.txt\", header = TRUE, stringsAsFactors = TRUE)"
   ]
  },
  {
   "cell_type": "code",
   "execution_count": 7,
   "metadata": {},
   "outputs": [
    {
     "name": "stdout",
     "output_type": "stream",
     "text": [
      "P(B1,D)=P(B1) 2.226854e-09 \n",
      "\n"
     ]
    },
    {
     "data": {
      "image/png": "[encoded data removed]",
      "text/plain": [
       "plot without title"
      ]
     },
     "metadata": {
      "image/png": {
       "height": 420,
       "width": 420
      }
     },
     "output_type": "display_data"
    }
   ],
   "source": [
    "ex.bn1 <- model2network(\"[X1][X2|X1][X3|X2]\")\n",
    "graphviz.plot(ex.bn1,layout = 'neato')\n",
    "cat('P(B1,D)=P(B1)',prob.model(ex.bn1,ex),'\\n\\n')"
   ]
  },
  {
   "cell_type": "code",
   "execution_count": 8,
   "metadata": {},
   "outputs": [
    {
     "name": "stdout",
     "output_type": "stream",
     "text": [
      "P(B2,D)=P(B2) 2.226854e-10 \n",
      "\n"
     ]
    },
    {
     "data": {
      "image/png": "[encoded data removed]",
      "text/plain": [
       "plot without title"
      ]
     },
     "metadata": {
      "image/png": {
       "height": 420,
       "width": 420
      }
     },
     "output_type": "display_data"
    }
   ],
   "source": [
    "ex.bn2 <- model2network(\"[X1][X2|X1][X3|X1]\")\n",
    "graphviz.plot(ex.bn2)\n",
    "cat('P(B2,D)=P(B2)',prob.model(ex.bn2,ex),'\\n\\n')"
   ]
  },
  {
   "cell_type": "markdown",
   "metadata": {},
   "source": [
    "The general function seem to work well since it reproduces the same values of the paper aswell!"
   ]
  },
  {
   "cell_type": "markdown",
   "metadata": {},
   "source": [
    "### Implementing K2 algorithm"
   ]
  },
  {
   "cell_type": "code",
   "execution_count": 9,
   "metadata": {},
   "outputs": [],
   "source": [
    "f <- function(BN,D,i)\n",
    "            {\n",
    "                prod <- 1\n",
    "            \n",
    "                if(length(parents(BN, nodes(BN)[i])) == 0)\n",
    "                    {prod <- prob.noparents(D,nodes(BN)[i],prod)}\n",
    "                else\n",
    "                    {prod <- prob.parents(BN,D,nodes(BN)[i],prod)}\n",
    "               \n",
    "                return(prod)\n",
    "            }"
   ]
  },
  {
   "cell_type": "code",
   "execution_count": 10,
   "metadata": {},
   "outputs": [],
   "source": [
    "K2 <- function(N,D,u)\n",
    "    {\n",
    "        BN <- empty.graph(nodes = N)\n",
    "    \n",
    "        for(i in 2:length(N))\n",
    "            {\n",
    "                p.old <- f(BN,D,i)\n",
    "                ok.to.proceed <- TRUE\n",
    "                j <- i - 1\n",
    "                                \n",
    "                while(ok.to.proceed & (length(parents(BN,nodes(BN)[i])) < u) )\n",
    "                    {   \n",
    "                        j <- i - 1\n",
    "                        proposal <- c()\n",
    "                    \n",
    "                        while(j > 0)\n",
    "                            {\n",
    "                                    BN.proposal <- set.arc(BN, from=nodes(BN)[j], to=nodes(BN)[i])\n",
    "                                    proposal <- c(proposal, f(BN.proposal,D,i))\n",
    "\n",
    "                                    j <- j - 1 \n",
    "                            }\n",
    "                        \n",
    "                        p.new <- max(proposal)\n",
    "                        best.BN   <- set.arc(BN, from=nodes(BN)[i - match(max(proposal),proposal)], to=nodes(BN)[i])\n",
    "                        if(p.new > p.old)\n",
    "                            {\n",
    "                                    p.old <- p.new\n",
    "                                    BN <- best.BN\n",
    "                            }\n",
    "                        else{ok.to.proceed <- FALSE}\n",
    "                    }\n",
    "                \n",
    "            }\n",
    "        \n",
    "        return(BN)\n",
    "    }"
   ]
  },
  {
   "cell_type": "code",
   "execution_count": 11,
   "metadata": {},
   "outputs": [
    {
     "data": {
      "image/png": "[encoded data removed]",
      "text/plain": [
       "plot without title"
      ]
     },
     "metadata": {
      "image/png": {
       "height": 420,
       "width": 420
      }
     },
     "output_type": "display_data"
    }
   ],
   "source": [
    "graphviz.plot(K2(c('X1','X2','X3'),ex,3))"
   ]
  },
  {
   "cell_type": "markdown",
   "metadata": {},
   "source": [
    "### Testing on SURVEY database"
   ]
  },
  {
   "cell_type": "code",
   "execution_count": 12,
   "metadata": {},
   "outputs": [
    {
     "data": {
      "image/png": "[encoded data removed]",
      "text/plain": [
       "plot without title"
      ]
     },
     "metadata": {
      "image/png": {
       "height": 420,
       "width": 420
      }
     },
     "output_type": "display_data"
    }
   ],
   "source": [
    "# Setting the nodes\n",
    "tus_dag <- empty.graph(nodes = c(\"A\", \"S\", \"E\", \"O\", \"R\", \"T\"))\n",
    "\n",
    "# Setting the arc (the edges)\n",
    "tus_dag <- set.arc(tus_dag, from = \"A\", to = \"E\")\n",
    "tus_dag <- set.arc(tus_dag, from = \"S\", to = \"E\")\n",
    "tus_dag <- set.arc(tus_dag, from = \"E\", to = \"O\")\n",
    "tus_dag <- set.arc(tus_dag, from = \"E\", to = \"R\")\n",
    "tus_dag <- set.arc(tus_dag, from = \"O\", to = \"T\")\n",
    "tus_dag <- set.arc(tus_dag, from = \"R\", to = \"T\")\n",
    "\n",
    "survey <- read.table(\"./dataset/survey.txt\", header = TRUE, stringsAsFactors = TRUE)\n",
    "graphviz.plot(tus_dag)"
   ]
  },
  {
   "cell_type": "code",
   "execution_count": 13,
   "metadata": {},
   "outputs": [],
   "source": [
    "# This function should compute the best survey model and plot it but it does not work right now\n",
    "# graphviz.plot(K2(c(\"A\", \"S\", \"E\", \"O\", \"R\", \"T\"),survey,3))"
   ]
  },
  {
   "cell_type": "markdown",
   "metadata": {},
   "source": [
    "## 2. Implement and test the K2 algorithm with the test data sets ([2]).  Investigate if it is possible to code it inside the bnstruct R package "
   ]
  },
  {
   "cell_type": "code",
   "execution_count": null,
   "metadata": {},
   "outputs": [],
   "source": []
  },
  {
   "cell_type": "code",
   "execution_count": null,
   "metadata": {},
   "outputs": [],
   "source": []
  }
 ],
 "metadata": {
  "kernelspec": {
   "display_name": "R",
   "language": "R",
   "name": "ir"
  },
  "language_info": {
   "codemirror_mode": "r",
   "file_extension": ".r",
   "mimetype": "text/x-r-source",
   "name": "R",
   "pygments_lexer": "r",
   "version": "3.6.3"
  }
 },
 "nbformat": 4,
 "nbformat_minor": 5
}