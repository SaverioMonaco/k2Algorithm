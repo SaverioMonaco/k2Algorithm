{
 "cells": [
  {
   "cell_type": "markdown",
   "source": [
    "# Learning the topology of a Bayesian Network from a database of cases using the K2 algorithm"
   ],
   "metadata": {}
  },
  {
   "cell_type": "code",
   "execution_count": null,
   "source": [
    "library(tidyverse)\n",
    "library(bnlearn)\n",
    "library(Rgraphviz)"
   ],
   "outputs": [],
   "metadata": {}
  },
  {
   "cell_type": "markdown",
   "source": [
    "_Bayesian Networks_ are graph models whose nodes are random variables, and their edges represent the conditional dependence the variables can have on one another. They can be applied in many fields ranging from Image Processing to Medical Diagnosis. Besides calibrating the conditional probabilities themselves, a critical task in the application is to find the correct Network Structure, i.e. finding the correct edges given the nodes.\n",
    "\n",
    "Finding the best Network structure can be matematically expressed through this formula:\n",
    "\n",
    "$$goal:\\quad \\max_x\\left[P(B_{x}|D)\\right]\\tag{1}$$\n",
    "\n",
    "Meaning we aim to find the Bayesian Network $B_x$ that maximizes the probability of the Network being correct, given a set of Data samples D.\n",
    "\n",
    "Through the definition of conditional probability, we can rearrange the formula (1):\n",
    "\n",
    "$$P(B_{x}|D)=\\frac{P(B_{x},D)}{P(D)}$$\n",
    "\n",
    "Being $P(D)$ to be equal for every model, the task can be converted into finding the model that maximizes the quantity $P(B_x,D)$"
   ]
  },
  {
   "cell_type": "markdown",
   "source": [
    "We follow [1] and apply the following formula:\n",
    "$$P(B_x,D)=P(B_x)\\prod_{i=1}^n\\prod_{j=1}^{q_i}\\frac{(r_i-1)!}{(N_{ij}+r_i - 1)!}\\prod_{k=1}^{r_i}N_{ijk}! \\tag{2}$$\n",
    "\n",
    "* $P(B_x)$ is the prior probability of the model, if we assume every model to be as likely as the others then it is just a constant\n",
    "* $r_i$ is the number of possible value assignments of the i-th variable\n",
    "* $\\pi_i$ is the set of parents for the node i\n",
    "* $q_i$ the number of unique instantiations of $\\pi_i$ relative to D\n",
    "* $w_{ij}$ denotes the jth unique instantiation of $\\pi_i$ relative to D\n",
    "* $N_{ijk}$ is the number of cases in D in which the variable $x_i$ has the value $v_{ik}$ and $\\pi_i$ is instantiated as $w_{ij}$\n",
    "* $N_{ij}=\\sum_{k=1}^{r_i}N_{ijk}$"
   ],
   "metadata": {}
  },
  {
   "cell_type": "markdown",
   "source": [
    "### Explaination of the equation (2)\n",
    "Consider the following Bayesian Network:\n",
    "\n",
    "<img src=\"https://i.ibb.co/n3hgVxm/RCOv-Zs-QPAZmc-Sym-L.png\" width=\"300\"/>\n",
    "\n",
    "An example of this Network can be:\n",
    "* **X1**: it has rained\n",
    "* **X2**: the automatic dripper was recently on\n",
    "* **X3**: I slip and fall\n",
    "* **X4**: I arrive late to work\n",
    "\n",
    "The event _slip and fall_ depends on wether the floor is wet. And _falling_ may have some causality on _arriving late to work_.\\\n",
    "Let D be the Data about these events,  consider this set:\n",
    "\n",
    "| X1 | X2 | X3 | X4 |\n",
    "|----|----|----|----|\n",
    "| 0  | 0  | 0  | 0  |\n",
    "| 0  | 0  | 0  | 1  |\n",
    "| 0  | 1  | 0  | 0  |\n",
    "| 1  | 1  | 1  | 1  |\n",
    "| 0  | 1  | 1  | 1  |\n",
    "| 1  | 0  | 1  | 1  |\n",
    "<br><br>\n",
    "\n",
    "\n",
    "The probability of the Bayesian Network to be true given the data is proportional to $P(B_S,D)$ given by the formula (1).\n",
    "\n",
    "For simplicity, consider the events of each node being only 0 or 1:\n",
    "$$X1,X2,X3,X4\\, \\in\\,\\{0,1\\} \\qquad\\left(=\\,\\{TRUE,FALSE\\}\\right)$$"
   ],
   "metadata": {}
  },
  {
   "cell_type": "markdown",
   "source": [
    "The first term of the $\\Pi$ goes through each nodes, let us describe them one by one:\n",
    "* $n=1$\n",
    "    * $r_1=2;\\hspace{2cm}$  X1 can be either 0 or 1\n",
    "    * $\\pi_1 = \\emptyset;\\hspace{1.8cm}$ since X1 has no parents\n",
    "    * $q_1 = 1;\\hspace{1.95cm}$ Since $\\pi_1=\\emptyset$, the possible rearrangments reduce to one\n",
    "    * $N_{1jk};\\hspace{2.4cm}$ If the node has no parents, this ends up being the number of unique terms\n",
    "    * $N_{1j};\\hspace{2.5cm}$ evaluates to the sum of the terms inside the last $\\Pi$<br><br>\n",
    "    \n",
    "    $$\\frac{(2-1)!}{(N_{11}+2 - 1)!}\\prod_{k=1}^{2}N_{11k}! = \\frac{\\prod_{k=1}^{2}N_{11k}!}{(N_{11} +1)!}=$$<br>\n",
    "    (For k=1 we count the zeros, for k=2 we count the ones)<br>\n",
    "    $$=\\frac{4!2!}{(4+2 +1)!}=0.0095$$"
   ],
   "metadata": {}
  },
  {
   "cell_type": "markdown",
   "source": [
    "* $n=2$<br>\n",
    "    Exactly the same, only the terms $N_{ij}$ and $N_{ijk}$ change<br>\n",
    "    $$\\frac{(2-1)!}{(N_{21}+2 - 1)!}\\prod_{k=1}^{2}N_{21k}! = \\frac{\\prod_{k=1}^{2}N_{21k}!}{(N_{21} +1)!}=\\frac{3!3!}{(3+3+1)!}=0.0071$$"
   ],
   "metadata": {}
  },
  {
   "cell_type": "markdown",
   "source": [
    "* $n=3$\\\n",
    "    X3 has parents X1 and X2, this means:\n",
    "    * $r_3=2;\\hspace{2cm}$  X3 can be either 0 or 1\n",
    "    * $\\pi_3 = \\{X1,X2\\};$\n",
    "    * $q_3 = 4;\\hspace{1.95cm}$ Since both X1 and X2 can assume two values each, the number of all possible permutation of the unique elements of X1 and X2 is 4\n",
    "    * $w_{3j}=\\{ \\{0,0\\},\\{0,1\\},\\{1,0\\},\\{1,1\\}\\}$\n",
    "    * $N_{3jk};\\hspace{2.3cm}$ the number of observations in D that X3 assumes the k-th value, and $\\{X1,X2\\}$ assume the j-th value from $w_{3j}$<br><br>\n",
    "    \n",
    "    $$\\prod_{j=1}^{4}\\frac{(2-1)!}{(N_{3j}+ 2- 1)!}\\prod_{k=1}^{2}N_{3jk}! = \\prod_{j=1}^{4}\\frac{\\prod_{k=1}^{2}N_{3jk}!}{(N_{3j}+ 1)!}$$\n",
    "     * j = 1\\\n",
    "     We consider when X1 and X2 assume the value $w_{31}=\\{0,0\\}$\n",
    "     When \\{X1,X2\\}=\\{0,0\\}, X3 is 0 twice (k=1) and is never 1 (k=2)\n",
    "     \n",
    "     * j = 2\\\n",
    "     We consider when X1 and X2 assume the value $w_{31}=\\{0,1\\}$\n",
    "     When \\{X1,X2\\}=\\{0,1\\}, X3 is 0 once (k=1) and once (k=2)\n",
    "     \n",
    "     * and so on...\n",
    "     \n",
    "     $$\\prod_{j=1}^{4}\\frac{\\prod_{k=1}^{2}N_{3jk}!}{(N_{3j}+ 1)!}=\\frac{0!2!}{3!}\\frac{1!1!}{3!}\\frac{0!1!}{2!}\\frac{0!1!}{2!}=0.028$$"
   ],
   "metadata": {}
  },
  {
   "cell_type": "markdown",
   "source": [
    "* $n=4$\\\n",
    "    For X4 the computation is easier than for X3 because there's only one parent node, meaning that q is only 2:<br><br>\n",
    "    $$\\prod_{j=1}^{2}\\frac{(2-1)!}{(N_{4j}+ 2- 1)!}\\prod_{k=1}^{2}N_{4jk}!=\\prod_{j=1}^{2}\\frac{ \\prod_{k=1}^{2}N_{4jk}! }{(N_{4j}+ 2- 1)!}=$$<br>\n",
    "    \n",
    "    To compute $N_{4jk}$ we must count the times X4 is 0/1 when X3 assumes the values 0 and 1:<br><br>\n",
    "    \n",
    "    $$=\\frac{2!1!}{4!}\\frac{3!0!}{4!}=0.021$$"
   ],
   "metadata": {}
  },
  {
   "cell_type": "markdown",
   "source": [
    "\\\n",
    "Now that we have a way to compute the probability of a model to be true, we could theoretically compute it for every model and choose the one with the highest value. However according to Robinson's formula:\n",
    "\n",
    "$$ f(n)=\\sum_{i=1}^n (-1)^{i+1}\\left(\\array{n \\\\ i}\\right)2^{i(n-i)}f(n-i) \\tag{3}$$\n",
    "\n",
    "the number of possible Networks grows exponentially as the number of nodes increases:"
   ]
  },
  {
   "cell_type": "code",
   "execution_count": 3,
   "id": "db43a637",
   "metadata": {},
   "outputs": [
    {
     "name": "stdout",
     "output_type": "stream",
     "text": [
      "For 2 nodes the number of possible structures is:  3 \n",
      "For 3 nodes the number of possible structures is:  25 \n",
      "For 4 nodes the number of possible structures is:  543 \n",
      "For 5 nodes the number of possible structures is:  29281 \n",
      "For 6 nodes the number of possible structures is:  3781503 \n",
      "For 7 nodes the number of possible structures is:  1138779265 \n",
      "For 8 nodes the number of possible structures is:  783702329343 \n"
     ]
    }
   ],
   "source": [
    "# Robinson recursive formula to compute the number of possible belief-network stuctures\n",
    "# that contains n nodes\n",
    "# FORMULA (3)\n",
    "n.networks.structure <- function(n)\n",
    "    {\n",
    "        # End of recursive function\n",
    "        if(n <= 1){return(1)}\n",
    "        \n",
    "        else\n",
    "            {\n",
    "                i <- 1\n",
    "                res <- 0\n",
    "                while(i <= n)\n",
    "                    {\n",
    "                        res <- res + ((i%%2)*2 - 1)*(choose(n,i)*(2^(i*(n-i)))*n.networks.structure(n-i))\n",
    "                        i <- i + 1\n",
    "                    }\n",
    "\n",
    "                return(res)\n",
    "            }\n",
    "    }\n",
    "\n",
    "# Computing the number of possible configurations for networks with 2,3...,8 nodes\n",
    "for(i in 2:8)\n",
    "    {\n",
    "        cat('For',i,'nodes the number of possible structures is: ',n.networks.structure(i),'\\n')\n",
    "    }\n"
   ],
   "outputs": [],
   "metadata": {}
  },
  {
   "cell_type": "markdown",
   "source": [
    "\\\n",
    "Even for small Networks, it would be preferable to apply a more heuristic approach in finding the best Network. The approach chosen here is the K2 algorithm [2]\n"
   ],
   "metadata": {}
  },
  {
   "cell_type": "markdown",
   "source": [
    "## 1. Implement the algorithm K2 in R and check its performances with the test data set given in [2]"
   ],
   "metadata": {}
  },
  {
   "cell_type": "code",
   "execution_count": null,
   "source": [
    "############ AUXILIARY FUNCTIONS ###############\n",
    "# Those functions are called when evaluated the probability of a configuration\n",
    "\n",
    "# When computing the probability of a network we go through each node\n",
    "# For each node the computation is different depending if they have parents nodes `prob.parents()` or not `prob.noparents()`\n",
    "prob.noparents <- function(D,namecol,prod)\n",
    "    {\n",
    "        # We take the probability computed for the node before and log it\n",
    "        lprod <- log(prod)\n",
    "        # Array of instances of the node\n",
    "        col <- dplyr::pull(D, namecol)\n",
    "        # Array of unique instances of the node ::ri::\n",
    "        nunique <- length(unique(col))\n",
    "        # We add the first term of the formula ::(ri - 1)!::\n",
    "        lprod <- lprod+lfactorial(nunique-1)\n",
    "        # Here we compute the first part of the denominator (ri - 1), it still need to Nij\n",
    "        # to be added and to be factorialized\n",
    "        den <- nunique - 1\n",
    "        \n",
    "        # Last prod serie, here we compute Nijk! (k varies) and we multiply them together\n",
    "        for(i in 1:nunique)\n",
    "            {\n",
    "                lprod <- lprod+lfactorial(length(col[col == unique(col)[i]]))\n",
    "            \n",
    "                # We compute Nij by adding Nijk all together\n",
    "                den <- den + length(col[col == unique(col)[i]])\n",
    "            }\n",
    "        # The denominator is complete, now we can subtract it (we would divide it if it wasn't log)\n",
    "        lprod <- lprod - lfactorial(den)\n",
    "        \n",
    "        # Finally we exp the final result to eliminate the log\n",
    "        nprod <- exp(lprod)\n",
    "    \n",
    "        return(nprod)\n",
    "    }\n",
    "\n",
    "# This function is called in a apply() in prob.parents()\n",
    "is.eq <- function(row1,row2){return(row1 == row2)}\n",
    "\n",
    "prob.parents <- function(BN,D,namecol,prod)\n",
    "    {\n",
    "        # We take the probability computed for the node before and log it\n",
    "        lprod <- log(prod)\n",
    "        # Array of instances of the node\n",
    "        col <- dplyr::pull(D, namecol)\n",
    "        # Array of parents nodes\n",
    "        parents <- parents(BN, namecol)\n",
    "        n.parents <- length(parents)\n",
    "        # Array of values of parents\n",
    "        col.parents <- D[parents]\n",
    "        r <- length(unique(col))\n",
    "\n",
    "        # Here we compute all the possible combinations the selected nodes and\n",
    "        # its parents nodes may have (of course the value depend on the possible\n",
    "        # instantiations of each node)\n",
    "        q <- 1\n",
    "        combined <- list()\n",
    "        for(j in 1:length(parents))\n",
    "            {\n",
    "                q <- q*length(unique(col.parents[,j]))\n",
    "                combined[[j]] <- unique(col.parents[,j])    \n",
    "            }\n",
    "        combinations <- do.call(expand.grid, combined)\n",
    "    \n",
    "        # for j in 1:qi\n",
    "        for(j in 1:q)\n",
    "            {\n",
    "                w  <- combinations[j,]\n",
    "                # Compute Nijk!\n",
    "                nij <- 0\n",
    "                for(k in 1:r)\n",
    "                    {\n",
    "                        wij <- c(w,unique(col)[k])\n",
    "                        nijk <- sum(apply(apply(cbind(col.parents, col),1,is.eq,row2=wij),2,all))\n",
    "                        nij <- nij + nijk\n",
    "                        lprod <- lprod+lfactorial(nijk)\n",
    "                    }\n",
    "                lprod <- lprod+lfactorial(r - 1) - lfactorial(nij + r - 1)\n",
    "            }\n",
    "\n",
    "        nprod <- exp(lprod)\n",
    "    \n",
    "        return(nprod)\n",
    "\n",
    "    }\n",
    "\n",
    "#############################################"
   ],
   "outputs": [],
   "metadata": {}
  },
  {
   "cell_type": "code",
   "execution_count": null,
   "source": [
    "# This is the function for evaluating the probability of a model, it basically go through each node (for i in 1:n)\n",
    "# and evaluates the probability depending on if the nodes has parents or not\n",
    "prob.model <- function(BN,D)\n",
    "    {\n",
    "        nvar <- length(nodes(BN))\n",
    "    \n",
    "        # We instantiate the prior probability of the model to be 1,\n",
    "        # it's just a constant term since we are supposing each model to be equally probable\n",
    "        prod <- 1\n",
    "        for(i in 1:nvar)\n",
    "            {\n",
    "                # if the node has no parents\n",
    "                if(length(parents(BN, nodes(BN)[i])) == 0)\n",
    "                    {prod <- prob.noparents(D,nodes(BN)[i],prod)}\n",
    "                else\n",
    "                    {prod <- prob.parents(BN,D,nodes(BN)[i],prod)}\n",
    "                \n",
    "            }\n",
    "    \n",
    "        return(prod)\n",
    "    }"
   ],
   "outputs": [],
   "metadata": {}
  },
  {
   "cell_type": "markdown",
   "source": [
    "\\\n",
    "```prob.model(BN,D)``` computes the value $P(BN,D)$ through the formula (2), to check if it is correctly implemented, the result is compared with the values shown in [1]:"
   ],
   "metadata": {}
  },
  {
   "cell_type": "code",
   "execution_count": null,
   "source": [
    "ex <- read.table(\"./dataset/cooper.txt\", header = TRUE, stringsAsFactors = TRUE)"
   ],
   "outputs": [],
   "metadata": {}
  },
  {
   "cell_type": "code",
   "execution_count": null,
   "source": [
    "ex.bn1 <- model2network(\"[X1][X2|X1][X3|X2]\")\n",
    "graphviz.plot(ex.bn1,layout = 'neato')\n",
    "cat('In the paper the result is:              P(B1,D)=P(B1) 2.23*10^(-9)')\n",
    "cat('\\nthrough the function implemented we get: P(B1,D)=P(B1)',prob.model(ex.bn1,ex),'\\n\\n')"
   ],
   "outputs": [],
   "metadata": {}
  },
  {
   "cell_type": "code",
   "execution_count": null,
   "source": [
    "ex.bn2 <- model2network(\"[X1][X2|X1][X3|X1]\")\n",
    "graphviz.plot(ex.bn2)\n",
    "cat('In the paper the result is:              P(B2,D)=P(B2) 2.23*10^(-10)')\n",
    "cat('\\nthrough the function implemented we get: P(B2,D)=P(B2)',prob.model(ex.bn2,ex),'\\n')"
   ],
   "outputs": [],
   "metadata": {}
  },
  {
   "cell_type": "markdown",
   "source": [
    "The function ```prob.model(BN,D)``` seems to work well since it reproduces the same values of the paper!"
   ],
   "metadata": {}
  },
  {
   "cell_type": "markdown",
   "source": [
    "### Implementing K2 algorithm"
   ],
   "metadata": {}
  },
  {
   "cell_type": "markdown",
   "id": "0f422bb6-67d1-4ca3-8524-6d4b214f4a29",
   "metadata": {},
   "source": [
    "The K2 algorithm is a heuristical method for searching the most porbable belief-network structure given a database of cases.\\\n",
    "It assumes that there exist a hierarchy of nodes, in which the first has no parents, and the others can only be child of the\n",
    "previous ones.\n",
    "The algorithm also needs to have specified the number of parents that each node may have.\\\n",
    "\n",
    "K2 algorithm cycles through each nodes and it seaches for the most probable configuration in the following manner:\n",
    "* Compute the probability of the model in which the node has no parents\n",
    "* Consider the configuration with the highest probability where a node (hierarchically higher) is linked to the current node\n",
    "* If the probability of the new configuration is lower or the same, it stops and the current node has no parent, else we now consider the two nodes linked.\n",
    "* Consider the configuration with another node linked to the current one, if it exists repeat"
   ]
  },
  {
   "cell_type": "code",
   "execution_count": null,
   "source": [
    "# This is the function f of the paper Illustration of the K2 Algorithm for learning Bayes Net Structures\n",
    "# it is a similar function of prob.model\n",
    "f <- function(BN,D,i)\n",
    "            {\n",
    "                prod <- 1\n",
    "            \n",
    "                if(length(parents(BN, nodes(BN)[i])) == 0)\n",
    "                    {prod <- prob.noparents(D,nodes(BN)[i],prod)}\n",
    "                else\n",
    "                    {prod <- prob.parents(BN,D,nodes(BN)[i],prod)}\n",
    "               \n",
    "                return(prod)\n",
    "            }"
   ],
   "outputs": [],
   "metadata": {}
  },
  {
   "cell_type": "code",
   "execution_count": null,
   "source": [
    "K2 <- function(N,D,u)\n",
    "    {\n",
    "        # We first consider the configuration where each node is independent\n",
    "        BN <- empty.graph(nodes = N)\n",
    "    \n",
    "        # We skip the first node since we suppose it can't have parents\n",
    "        for(i in 2:length(N))\n",
    "            {\n",
    "                # We save in p.old the probability of the model in the current configuration\n",
    "                p.old <- f(BN,D,i)\n",
    "                ok.to.proceed <- TRUE\n",
    "                j <- i - 1\n",
    "                                \n",
    "                while(ok.to.proceed & (length(parents(BN,nodes(BN)[i])) < u) )\n",
    "                    {   \n",
    "                        j <- i - 1\n",
    "                        proposal <- c()\n",
    "                    \n",
    "                        while(j > 0)\n",
    "                            {\n",
    "                                    # We propose the configuration where the jth node is linked to the current one\n",
    "                                    BN.proposal <- set.arc(BN, from=nodes(BN)[j], to=nodes(BN)[i])\n",
    "                                    # And we compute the probability\n",
    "                                    proposal <- c(proposal, f(BN.proposal,D,i))\n",
    "\n",
    "                                    j <- j - 1 \n",
    "                            }\n",
    "                        \n",
    "                        # We take the model with the highest probability\n",
    "                        p.new <- max(proposal)\n",
    "                        best.BN   <- set.arc(BN, from=nodes(BN)[i - match(max(proposal),proposal)], to=nodes(BN)[i])\n",
    "                        # Does the new configuration beat the current one?\n",
    "                        if(p.new > p.old)\n",
    "                            {\n",
    "                                    p.old <- p.new\n",
    "                                    BN <- best.BN\n",
    "                            }\n",
    "                        # If not then we need to exit\n",
    "                        else{ok.to.proceed <- FALSE}\n",
    "                    }\n",
    "                \n",
    "            }\n",
    "        \n",
    "        return(BN)\n",
    "    }"
   ],
   "outputs": [],
   "metadata": {}
  },
  {
   "cell_type": "code",
   "execution_count": null,
   "source": [
    "graphviz.plot(K2(c('X1','X2','X3'),ex,3))"
   ],
   "outputs": [],
   "metadata": {}
  },
  {
   "cell_type": "markdown",
   "source": [
    "## 2. Implement and test the K2 algorithm with the test data sets ([2]).  Investigate if it is possible to code it inside the bnstruct R package"
   ],
   "metadata": {}
  },
  {
   "cell_type": "code",
   "execution_count": null,
   "source": [
    "suppressMessages(library(bnstruct)) # we load bnstruct but suppress the messages, too pedantic!"
   ],
   "outputs": [],
   "metadata": {}
  },
  {
   "cell_type": "markdown",
   "source": [
    "### Testing bnstruct on SURVEY dataset"
   ],
   "metadata": {}
  },
  {
   "cell_type": "code",
   "execution_count": null,
   "source": [
    "# Loading the survey dataset\n",
    "ex.survey <- read.table(\"./dataset/surveymod.txt\", header = TRUE, stringsAsFactors = TRUE)\n",
    "\n",
    "# Adding 1 to each values, having 0 as a possible value the nodes could assume caused errors\n",
    "ex.survey.mod <- ex.survey + 1\n",
    "\n",
    "dataset.survey <- BNDataset(data = ex.survey.mod,                                             # dataset\n",
    "                            variables = names(ex.survey.mod),                                 # names of the nodes\n",
    "                            num.nodes = 6,                                                    # number of nodes\n",
    "                            discreteness = matrix(c(TRUE,TRUE,TRUE,TRUE,TRUE,TRUE),nrow=1),   # TRUE if nodes i is discreet\n",
    "                            node.sizes = c(3,2,2,2,2,3))                                      # cardinality of the nodes\n",
    "\n",
    "# learn.network will use an heuristic approach (not K2) to learn the structure. Default = MMHC\n",
    "bn.survey <- learn.network(dataset.survey)\n",
    "\n",
    "plot(bn.survey)"
   ],
   "outputs": [],
   "metadata": {}
  },
  {
   "cell_type": "code",
   "execution_count": null,
   "source": [
    "# From the theory lessons: We build the most 'correct' dataset, i.e the ones that outputs the highest probability:\n",
    "survey.bn.best <- empty.graph(nodes = c(\"A\", \"S\", \"E\", \"O\", \"R\", \"T\"))\n",
    "survey.bn.best <- set.arc(survey.bn.best, from = \"A\", to = \"E\")\n",
    "survey.bn.best <- set.arc(survey.bn.best, from = \"S\", to = \"E\")\n",
    "survey.bn.best <- set.arc(survey.bn.best, from = \"E\", to = \"O\")\n",
    "survey.bn.best <- set.arc(survey.bn.best, from = \"E\", to = \"R\")\n",
    "survey.bn.best <- set.arc(survey.bn.best, from = \"O\", to = \"T\")\n",
    "survey.bn.best <- set.arc(survey.bn.best, from = \"R\", to = \"T\")\n",
    "graphviz.plot(survey.bn.best)"
   ],
   "outputs": [],
   "metadata": {}
  },
  {
   "cell_type": "markdown",
   "source": [
    "The two networks are obviously different, this is because the heuristic approach MMHC did not find the best model."
   ],
   "metadata": {}
  },
  {
   "cell_type": "code",
   "execution_count": null,
   "source": [
    "bn.survey <- learn.network(dataset.survey,algo='mmpc')\n",
    "plot(bn.survey)"
   ],
   "outputs": [],
   "metadata": {}
  },
  {
   "cell_type": "markdown",
   "source": [
    "### Testing bnstruct on ([2]) dataset"
   ],
   "metadata": {}
  },
  {
   "cell_type": "code",
   "execution_count": null,
   "source": [
    "ex.cooper <- read.table(\"./dataset/cooper.txt\", header = TRUE, stringsAsFactors = TRUE)\n",
    "\n",
    "# ex.cooper variables assume the values {0,1}, however in bnstruct, 0 is considered out of range, we need to shift every\n",
    "# value to 1 ({0,1} -> {1,2})\n",
    "ex.cooper <- ex.cooper + 1\n",
    "\n",
    "dataset.cooper <- BNDataset(data = ex.cooper,                                 # dataset\n",
    "                            num.nodes = 3,                                    # number of nodes\n",
    "                            variables = c('X1','X2','X3'),                    # names of the variables\n",
    "                            discreteness = matrix(c(TRUE,TRUE,TRUE),nrow=1),  # TRUE if the variable is discreet\n",
    "                            node.sizes = c(2,2,2))                            # cardinality of the variables\n",
    "\n",
    "bn.cooper <- learn.network(dataset.cooper)\n",
    "\n",
    "plot(bn.cooper)"
   ],
   "outputs": [],
   "metadata": {}
  },
  {
   "cell_type": "markdown",
   "source": [
    "The structure learnt by bnstruct seems correct, however the arrow: $X1\\leftarrow X2$ is directed wrongly. This could be caused either by the heuristic search of the model, or by the plot function"
   ],
   "metadata": {}
  },
  {
   "cell_type": "markdown",
   "source": [
    "The default learning method is MMHC **(maybe explain MMHC)**. From the options avaible there is no K2 method:"
   ],
   "metadata": {}
  },
  {
   "cell_type": "code",
   "execution_count": null,
   "source": [
    "bn.cooper <- learn.network(dataset.cooper,\n",
    "                           algo='k2')  # algo is the algorithm to find the best model, default = MMHC"
   ],
   "outputs": [],
   "metadata": {}
  },
  {
   "cell_type": "markdown",
   "source": [
    "We now unload the package bnstruct to load a local modified version of it:"
   ],
   "metadata": {}
  },
  {
   "cell_type": "code",
   "execution_count": null,
   "source": [
    "detach(package:bnstruct, TRUE)"
   ],
   "outputs": [],
   "metadata": {}
  },
  {
   "cell_type": "code",
   "execution_count": null,
   "source": [
    "library(devtools)\n",
    "suppressMessages(load_all('./bnstruct-modified'))"
   ],
   "outputs": [],
   "metadata": {}
  },
  {
   "cell_type": "code",
   "execution_count": null,
   "source": [
    "D <- read.table(\"./dataset/cooper.txt\", header = TRUE, stringsAsFactors = TRUE)\n",
    "bn.cooper <- learn.network(dataset.cooper, algo='k2', max.parents = 3)\n",
    "bn.cooper\n",
    "plot(bn.cooper)"
   ],
   "outputs": [],
   "metadata": {}
  },
  {
   "cell_type": "markdown",
   "source": [
    "The local _bnstruct_ package was modified in order to host another algorithm method for k2. If K2 is passed as an input of the parameter ```algo``` in the function ```learn.network()```, the function K2 seen above will be used"
   ],
   "metadata": {}
  },
  {
   "cell_type": "code",
   "execution_count": null,
   "source": [],
   "outputs": [],
   "metadata": {}
  },
  {
   "cell_type": "markdown",
   "source": [
    "## Further improvements\n",
    "For the task of finding the best Network, Factorials play a central role (See Equation 2).\\\n",
    "The larger the dataset is, the bigger the arguments in the factorials become. This considerably limits the size of datasets that could be used with a direct implementation.\n",
    "\n",
    "Another obstacle happens when dealing with datasets with a high number of nodes, in fact the probabilities computed by the function ```prob-model()``` are so low (given the high number of possible networks) that they are all approximated as 0, making the task of finding the one with the highest probability, not possible.\n",
    "\n",
    "This means that in order to apply this algorithm with High Numbers of Nodes and Instances, one must deal with high numbers (due to the factorials) and small numbers (due to the small probabilities) that would normally Overflow and Underflow, respectively.\n",
    "\n",
    "This restriction was surpassed in part by means of the built-in log-factorial function (```lfactorial()```) along with other logarithmic techniques within the calculation of probabilities.\n",
    "\n",
    "The code could also be improved by implementing advanced factorial functions (e. g. ```gmp::factorialZ()```) or using workarounds such as _Strirling approximation_."
   ],
   "metadata": {}
  },
  {
   "cell_type": "markdown",
   "source": [
    "## References\n",
    "[1] G. F. Cooper and E. Herskovits, _A Bayesian Method for the Induction of Probabilistic Networks from Data_, Machine Learning 9, (1992) 309\\\n",
    "[2] C. Ruiz, _Illustration of the K2 Algorithm for learning Bayes Net Structures_, http://web.cs.wpi.edu/~cs539/s11/Projects/k2_algorithm.pdf \\\n",
    "[3] A. Franzin et al., _bnstruct: an R package for Bayesian Network structure learning in the presence of missing data_, Bioinformatics 33(8) 2017 1250\\\n",
    "[4] F. Sambo and A. Franzin, _bnstruct: an R package for Bayesian Network structure learning in the presence of missing data_, December 12, 2016"
   ],
   "metadata": {}
  },
  {
   "cell_type": "code",
   "execution_count": null,
   "source": [],
   "outputs": [],
   "metadata": {}
  }
 ],
 "metadata": {
  "kernelspec": {
   "display_name": "R",
   "language": "R",
   "name": "ir"
  },
  "language_info": {
   "codemirror_mode": "r",
   "file_extension": ".r",
   "mimetype": "text/x-r-source",
   "name": "R",
   "pygments_lexer": "r",
   "version": "3.6.3"
  }
 },
 "nbformat": 4,
 "nbformat_minor": 5
}
