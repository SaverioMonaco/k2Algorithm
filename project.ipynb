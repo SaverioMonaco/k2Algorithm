{
 "cells": [
  {
   "cell_type": "markdown",
   "id": "d741730a-a7f3-4c2e-b958-adabbcfa4cd4",
   "metadata": {},
   "source": [
    "# Learning the topology of a Bayesian Network from a database of cases using the K2 algorithm"
   ]
  },
  {
   "cell_type": "code",
   "execution_count": 16,
   "id": "0753bc71-d33f-4aae-b90d-7b01cde9c20e",
   "metadata": {},
   "outputs": [],
   "source": [
    "library(tidyverse)\n",
    "\n",
    "# Installed just by typing install.packages('bnlearn')\n",
    "library(bnlearn)\n",
    "\n",
    "# This was a bit more complicated to install:\n",
    "# install.packages(\"BiocManager\")\n",
    "# BiocManager::install(\"Rgraphviz\")\n",
    "library(Rgraphviz)"
   ]
  },
  {
   "cell_type": "markdown",
   "id": "2447a73d-c321-436e-b7cd-ee56677f9438",
   "metadata": {},
   "source": [
    "## Some theory"
   ]
  },
  {
   "cell_type": "markdown",
   "id": "e3de3eb3-e3f1-4dc1-83a8-58aaab4f4df4",
   "metadata": {},
   "source": [
    "The problem of finding the best belief-network structure $B_S$ is a maximization problem of the quantity:\n",
    "\n",
    "$$P(B_S|D)\\propto P(B_S,D)$$\n",
    "\n",
    "$$\\max{\\left[P(B_S|D)\\right]}\\leftrightarrow \\max{\\left[P(B_S,D)\\right]}$$"
   ]
  },
  {
   "cell_type": "markdown",
   "id": "7c760be2-36a5-475d-ad24-17d66ca76f03",
   "metadata": {},
   "source": [
    "Robinson formula computes the number of possible Networks given the number of nodes. It is relevant to show how quickly the problem tackled scales when the number of nodes _n_ increases.\n",
    "\n",
    "As shown in the next cell, the complexity of this task is exponential."
   ]
  },
  {
   "cell_type": "code",
   "execution_count": 11,
   "id": "e99932be-23bf-4704-b061-71a52c1f6dec",
   "metadata": {},
   "outputs": [
    {
     "name": "stdout",
     "output_type": "stream",
     "text": [
      "For n= 1 the number of possible structures is:  1 \n",
      "For n= 2 the number of possible structures is:  3 \n",
      "For n= 3 the number of possible structures is:  25 \n",
      "For n= 4 the number of possible structures is:  543 \n",
      "For n= 5 the number of possible structures is:  29281 \n",
      "For n= 6 the number of possible structures is:  3781503 \n",
      "For n= 7 the number of possible structures is:  1138779265 \n",
      "For n= 8 the number of possible structures is:  783702329343 \n"
     ]
    }
   ],
   "source": [
    "# Robinson recursive formula to compute the number of possible belief-network stuctures\n",
    "# that contains n nodes\n",
    "# From: A Bayesian Method for the Induction of Probabilistic Networks from Data, p. 319\n",
    "n.networks.structure <- function(n)\n",
    "    {\n",
    "        if(n <= 1){return(1)}\n",
    "        else\n",
    "            {\n",
    "                i <- 1\n",
    "                res <- 0\n",
    "                while(i <= n)\n",
    "                    {\n",
    "                        res <- res + ((i%%2)*2 - 1)*(choose(n,i)*(2^(i*(n-i)))*n.networks.structure(n-i))\n",
    "                        i <- i + 1\n",
    "                    }\n",
    "\n",
    "                return(res)\n",
    "            }\n",
    "    }\n",
    "\n",
    "for(i in 1:8)\n",
    "    {\n",
    "        cat('For n=',i,'the number of possible structures is: ',n.networks.structure(i),'\\n')\n",
    "    }\n"
   ]
  },
  {
   "cell_type": "markdown",
   "id": "d6194604-2509-46b3-b613-1212878753fe",
   "metadata": {},
   "source": [
    "$$P(B_S,D)=P(B_S)\\prod_{i=1}^n\\prod_{j=1}^{q_i}\\frac{(r_i-1)!}{(N_{ij}+r_i - 1)!}\\prod_{k=1}^{r_i}N_{ijk}!$$\n",
    "\n",
    "* $P(B_S)$ is the prior probability of the model, if we assume every model to be as likely as the others then it is just a constant\n",
    "* $r_i$ is the number of possible value assignments of the i-th variable\n",
    "* $\\pi_i$ is the set of parents for the node i\n",
    "* $q_i$ the number of unique instantiations of $\\pi_i$ relative to D\n",
    "* $w_{ij}$ denotes the jth unique instantiation of $\\pi_i$ relative to D\n",
    "* $N_{ijk}$ is the number of cases in D in which the variable $x_i$ has the value $v_{ik}$ and $\\pi_i$ is instantiated as $w_{ij}$\n",
    "* $N_{ij}=\\sum_{k=1}^{r_i}N_{ijk}$"
   ]
  },
  {
   "cell_type": "code",
   "execution_count": 55,
   "id": "1ae83ee8-2f98-4a1d-92b9-c90eac83694e",
   "metadata": {},
   "outputs": [
    {
     "data": {
      "text/html": [
       "<table class=\"dataframe\">\n",
       "<caption>A data.frame: 10 × 3</caption>\n",
       "<thead>\n",
       "\t<tr><th scope=col>X1</th><th scope=col>X2</th><th scope=col>X3</th></tr>\n",
       "\t<tr><th scope=col>&lt;int&gt;</th><th scope=col>&lt;int&gt;</th><th scope=col>&lt;int&gt;</th></tr>\n",
       "</thead>\n",
       "<tbody>\n",
       "\t<tr><td>1</td><td>0</td><td>0</td></tr>\n",
       "\t<tr><td>1</td><td>1</td><td>1</td></tr>\n",
       "\t<tr><td>0</td><td>0</td><td>1</td></tr>\n",
       "\t<tr><td>1</td><td>1</td><td>1</td></tr>\n",
       "\t<tr><td>0</td><td>0</td><td>0</td></tr>\n",
       "\t<tr><td>0</td><td>1</td><td>1</td></tr>\n",
       "\t<tr><td>1</td><td>1</td><td>1</td></tr>\n",
       "\t<tr><td>0</td><td>0</td><td>0</td></tr>\n",
       "\t<tr><td>1</td><td>1</td><td>1</td></tr>\n",
       "\t<tr><td>0</td><td>0</td><td>0</td></tr>\n",
       "</tbody>\n",
       "</table>\n"
      ],
      "text/latex": [
       "A data.frame: 10 × 3\n",
       "\\begin{tabular}{lll}\n",
       " X1 & X2 & X3\\\\\n",
       " <int> & <int> & <int>\\\\\n",
       "\\hline\n",
       "\t 1 & 0 & 0\\\\\n",
       "\t 1 & 1 & 1\\\\\n",
       "\t 0 & 0 & 1\\\\\n",
       "\t 1 & 1 & 1\\\\\n",
       "\t 0 & 0 & 0\\\\\n",
       "\t 0 & 1 & 1\\\\\n",
       "\t 1 & 1 & 1\\\\\n",
       "\t 0 & 0 & 0\\\\\n",
       "\t 1 & 1 & 1\\\\\n",
       "\t 0 & 0 & 0\\\\\n",
       "\\end{tabular}\n"
      ],
      "text/markdown": [
       "\n",
       "A data.frame: 10 × 3\n",
       "\n",
       "| X1 &lt;int&gt; | X2 &lt;int&gt; | X3 &lt;int&gt; |\n",
       "|---|---|---|\n",
       "| 1 | 0 | 0 |\n",
       "| 1 | 1 | 1 |\n",
       "| 0 | 0 | 1 |\n",
       "| 1 | 1 | 1 |\n",
       "| 0 | 0 | 0 |\n",
       "| 0 | 1 | 1 |\n",
       "| 1 | 1 | 1 |\n",
       "| 0 | 0 | 0 |\n",
       "| 1 | 1 | 1 |\n",
       "| 0 | 0 | 0 |\n",
       "\n"
      ],
      "text/plain": [
       "   X1 X2 X3\n",
       "1  1  0  0 \n",
       "2  1  1  1 \n",
       "3  0  0  1 \n",
       "4  1  1  1 \n",
       "5  0  0  0 \n",
       "6  0  1  1 \n",
       "7  1  1  1 \n",
       "8  0  0  0 \n",
       "9  1  1  1 \n",
       "10 0  0  0 "
      ]
     },
     "metadata": {},
     "output_type": "display_data"
    }
   ],
   "source": [
    "ex <- read.table(\"./dataset/cooper.txt\", header = TRUE, stringsAsFactors = TRUE)\n",
    "ex"
   ]
  },
  {
   "cell_type": "code",
   "execution_count": 141,
   "id": "4ad227e3-fb79-4c1f-b6d2-4d423b109d9c",
   "metadata": {},
   "outputs": [
    {
     "data": {
      "image/png": "[encoded data removed]",
      "text/plain": [
       "plot without title"
      ]
     },
     "metadata": {
      "image/png": {
       "height": 420,
       "width": 420
      }
     },
     "output_type": "display_data"
    }
   ],
   "source": [
    "ex.bn1 <- model2network(\"[X1][X2|X1][X3|X2]\")\n",
    "graphviz.plot(ex.bn1,layout = 'neato')"
   ]
  },
  {
   "cell_type": "code",
   "execution_count": 143,
   "id": "9d3e5537-a285-4197-8ea9-17b76dddc40a",
   "metadata": {},
   "outputs": [
    {
     "data": {
      "text/html": [
       "2.22685407870593e-09"
      ],
      "text/latex": [
       "2.22685407870593e-09"
      ],
      "text/markdown": [
       "2.22685407870593e-09"
      ],
      "text/plain": [
       "[1] 2.226854e-09"
      ]
     },
     "metadata": {},
     "output_type": "display_data"
    }
   ],
   "source": [
    "# This function computes the humongous formula for P(B,D)\n",
    "# This function is not general, I'm assuming that the variable Xj depends only on Xj-1.\n",
    "# Of course it works for this particular case\n",
    "ex.probmodel1 <- function(D)\n",
    "    {\n",
    "        nvar <- length(names(D))\n",
    "        \n",
    "        # For n = 1\n",
    "        col1 <- dplyr::pull(D, 1)\n",
    "        nunique1 <- length(unique(col1))\n",
    "        prod <- factorial(nunique1-1)\n",
    "        den <- nunique - 1\n",
    "        \n",
    "        for(i in 1:nunique1)\n",
    "            {\n",
    "                prod <- prod*factorial(length(col1[col1 == unique(col1)[i]]))\n",
    "                den <- den + length(col1[col1 == unique(col1)[i]])\n",
    "            }\n",
    "        prod <- prod/factorial(den)\n",
    "    \n",
    "        # For n >= 1\n",
    "        for(i in 2:nvar)\n",
    "            {\n",
    "                col <- dplyr::pull(D, i)\n",
    "                prevcol <- dplyr::pull(D, i-1)\n",
    "                \n",
    "                r <- length(unique(col))\n",
    "                q <- length(unique(prevcol))\n",
    "                for(j in 1:q)\n",
    "                    {\n",
    "                        nij <- 0 \n",
    "                        for(k in 1:r)\n",
    "                            {\n",
    "                                nijk <- sum(prevcol == unique(prevcol)[j] & col == unique(col)[k])\n",
    "                                nij <- nij + nijk\n",
    "                                prod <- prod*factorial(nijk)\n",
    "                            }\n",
    "                    \n",
    "                        prod <- prod*factorial(r - 1)/factorial(nij + r - 1)\n",
    "                    }\n",
    "                \n",
    "            }\n",
    "    \n",
    "        return(prod)\n",
    "    }\n",
    "\n",
    "ex.probmodel1(ex)"
   ]
  },
  {
   "cell_type": "code",
   "execution_count": 145,
   "id": "6c829fc4-207f-4e4a-86e1-94650954d16c",
   "metadata": {},
   "outputs": [
    {
     "data": {
      "image/png": "[encoded data removed]",
      "text/plain": [
       "plot without title"
      ]
     },
     "metadata": {
      "image/png": {
       "height": 420,
       "width": 420
      }
     },
     "output_type": "display_data"
    }
   ],
   "source": [
    "ex.bn2 <- model2network(\"[X1][X2|X1][X3|X1]\")\n",
    "graphviz.plot(ex.bn2)"
   ]
  },
  {
   "cell_type": "code",
   "execution_count": 149,
   "id": "410bc791-74c1-4464-ac50-07234120e7b0",
   "metadata": {},
   "outputs": [
    {
     "data": {
      "text/html": [
       "2.22685407870593e-10"
      ],
      "text/latex": [
       "2.22685407870593e-10"
      ],
      "text/markdown": [
       "2.22685407870593e-10"
      ],
      "text/plain": [
       "[1] 2.226854e-10"
      ]
     },
     "metadata": {},
     "output_type": "display_data"
    }
   ],
   "source": [
    "# This function is very similar for the previous one but it's adapted for this other network structure\n",
    "ex.probmodel2 <- function(D)\n",
    "    {\n",
    "        nvar <- length(names(D))\n",
    "        \n",
    "        # For n = 1\n",
    "        col1 <- dplyr::pull(D, 1)\n",
    "        nunique1 <- length(unique(col1))\n",
    "        prod <- factorial(nunique1-1)\n",
    "        den <- nunique - 1\n",
    "        \n",
    "        for(i in 1:nunique1)\n",
    "            {\n",
    "                prod <- prod*factorial(length(col1[col1 == unique(col1)[i]]))\n",
    "                den <- den + length(col1[col1 == unique(col1)[i]])\n",
    "            }\n",
    "        prod <- prod/factorial(den)\n",
    "    \n",
    "        # For n >= 1\n",
    "        for(i in 2:nvar)\n",
    "            {\n",
    "                col <- dplyr::pull(D, i)\n",
    "                prevcol <- dplyr::pull(D, 1)\n",
    "                \n",
    "                r <- length(unique(col))\n",
    "                q <- length(unique(prevcol))\n",
    "                for(j in 1:q)\n",
    "                    {\n",
    "                        nij <- 0 \n",
    "                        for(k in 1:r)\n",
    "                            {\n",
    "                                nijk <- sum(prevcol == unique(prevcol)[j] & col == unique(col)[k])\n",
    "                                nij <- nij + nijk\n",
    "                                prod <- prod*factorial(nijk)\n",
    "                            }\n",
    "                    \n",
    "                        prod <- prod*factorial(r - 1)/factorial(nij + r - 1)\n",
    "                    }\n",
    "                \n",
    "            }\n",
    "    \n",
    "        return(prod)\n",
    "    }\n",
    "\n",
    "ex.probmodel2(ex)"
   ]
  },
  {
   "cell_type": "code",
   "execution_count": null,
   "id": "3b00cf53-91cb-460a-924f-780aac7a0d6e",
   "metadata": {},
   "outputs": [],
   "source": []
  }
 ],
 "metadata": {
  "kernelspec": {
   "display_name": "R",
   "language": "R",
   "name": "ir"
  },
  "language_info": {
   "codemirror_mode": "r",
   "file_extension": ".r",
   "mimetype": "text/x-r-source",
   "name": "R",
   "pygments_lexer": "r",
   "version": "3.6.3"
  }
 },
 "nbformat": 4,
 "nbformat_minor": 5
}
