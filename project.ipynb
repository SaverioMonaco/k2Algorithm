{
 "cells": [
  {
   "cell_type": "markdown",
   "id": "d741730a-a7f3-4c2e-b958-adabbcfa4cd4",
   "metadata": {},
   "source": [
    "# Learning the topology of a Bayesian Network from a database of cases using the K2 algorithm"
   ]
  },
  {
   "cell_type": "code",
   "execution_count": 3,
   "id": "0753bc71-d33f-4aae-b90d-7b01cde9c20e",
   "metadata": {},
   "outputs": [],
   "source": [
    "library(tidyverse)\n",
    "\n",
    "# Installed just by typing install.packages('bnlearn')\n",
    "library(bnlearn)\n",
    "\n",
    "# This was a bit more complicated to install:\n",
    "# install.packages(\"BiocManager\")\n",
    "# BiocManager::install(\"Rgraphviz\")\n",
    "library(Rgraphviz)"
   ]
  },
  {
   "cell_type": "code",
   "execution_count": 22,
   "id": "e99932be-23bf-4704-b061-71a52c1f6dec",
   "metadata": {},
   "outputs": [
    {
     "name": "stdout",
     "output_type": "stream",
     "text": [
      "For n= 1 the number of possible structures is:  1 \n",
      "For n= 2 the number of possible structures is:  3 \n",
      "For n= 3 the number of possible structures is:  25 \n",
      "For n= 4 the number of possible structures is:  543 \n",
      "For n= 5 the number of possible structures is:  29281 \n",
      "For n= 6 the number of possible structures is:  3781503 \n",
      "For n= 7 the number of possible structures is:  1138779265 \n",
      "For n= 8 the number of possible structures is:  783702329343 \n"
     ]
    }
   ],
   "source": [
    "# Robinson recursive formula to compute the number of possible belief-network stuctures\n",
    "# that contains n nodes\n",
    "# From: A Bayesian Method for the Induction of Probabilistic Networks from Data, p. 319\n",
    "n.networks.structure <- function(n)\n",
    "    {\n",
    "        if(n <= 1){return(1)}\n",
    "        else\n",
    "            {\n",
    "                i <- 1\n",
    "                res <- 0\n",
    "                while(i <= n)\n",
    "                    {\n",
    "                        res <- res + ((i%%2)*2 - 1)*(choose(n,i)*(2^(i*(n-i)))*n.networks.structure(n-i))\n",
    "                        i <- i + 1\n",
    "                    }\n",
    "\n",
    "                return(res)\n",
    "            }\n",
    "    }\n",
    "\n",
    "for(i in 1:8)\n",
    "    {\n",
    "        cat('For n=',i,'the number of possible structures is: ',n.networks.structure(i),'\\n')\n",
    "    }\n"
   ]
  },
  {
   "cell_type": "markdown",
   "id": "23a35bc7-0e82-43b2-a331-7ea1f8d6a728",
   "metadata": {},
   "source": [
    "# Dataset"
   ]
  },
  {
   "cell_type": "markdown",
   "id": "f6343669-5797-4454-8bad-98e60770dee9",
   "metadata": {},
   "source": [
    "#### Info:\n",
    "https://rdrr.io/cran/bnlearn/man/alarm.html \\\n",
    "https://www.bnlearn.com/bnrepository/discrete-medium.html#alarm"
   ]
  },
  {
   "cell_type": "code",
   "execution_count": null,
   "id": "01bf1503-a0c4-4334-aba6-8bddac79714a",
   "metadata": {},
   "outputs": [],
   "source": []
  }
 ],
 "metadata": {
  "kernelspec": {
   "display_name": "R",
   "language": "R",
   "name": "ir"
  },
  "language_info": {
   "codemirror_mode": "r",
   "file_extension": ".r",
   "mimetype": "text/x-r-source",
   "name": "R",
   "pygments_lexer": "r",
   "version": "3.6.3"
  }
 },
 "nbformat": 4,
 "nbformat_minor": 5
}
