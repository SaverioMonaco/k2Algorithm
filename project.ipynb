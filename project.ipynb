{
 "cells": [
  {
   "cell_type": "markdown",
   "id": "e3a624dc",
   "metadata": {},
   "source": [
    "# Learning the topology of a Bayesian Network from a database of cases using the K2 algorithm"
   ]
  },
  {
   "cell_type": "code",
   "execution_count": null,
   "id": "006d5ce4",
   "metadata": {},
   "outputs": [],
   "source": [
    "library(tidyverse)\n",
    "library(bnlearn)\n",
    "library(Rgraphviz)"
   ]
  },
  {
   "cell_type": "markdown",
   "id": "4de77a46",
   "metadata": {},
   "source": [
    "_Bayesian Networks_ are graph models whose nodes are random variables, and their edges represent the conditional dependence the variables can have on one another. They can be applied in many fields ranging from Image Processing to Medical Diagnosis. Besides calibrating the conditional probabilities themselves, a critical task in the application is to find the correct Network Structure, i.e. finding the correct edges given the nodes.\n",
    "\n",
    "Finding the best Network structure can be matematically expressed through this formula:\n",
    "\n",
    "$$goal:\\quad \\max_x\\left[P(B_{x}|D)\\right]\\tag{1}$$\n",
    "\n",
    "Meaning we aim to find the Bayesian Network $B_x$ that maximizes the probability of the Network being correct, given a set of Data samples D.\n",
    "\n",
    "Through the definition of conditional probability, we can rearrange the formula (1):\n",
    "\n",
    "$$P(B_{x}|D)=\\frac{P(B_{x},D)}{P(D)}$$\n",
    "\n",
    "Assuming $P(D)$ to be equal for every model, the task can be converted into finding the model that maximizes the quantity $P(B_x,D)$"
   ]
  },
  {
   "cell_type": "markdown",
   "id": "42f6e46c",
   "metadata": {},
   "source": [
    "We follow [1] and apply the following formula:\n",
    "$$P(B_x,D)=P(B_x)\\prod_{i=1}^n\\prod_{j=1}^{q_i}\\frac{(r_i-1)!}{(N_{ij}+r_i - 1)!}\\prod_{k=1}^{r_i}N_{ijk}! \\tag{2}$$\n",
    "\n",
    "* $P(B_x)$ is the prior probability of the model, if we assume every model to be as likely as the others then it is just a constant\n",
    "* $r_i$ is the number of possible value assignments of the i-th variable\n",
    "* $\\pi_i$ is the set of parents for the node i\n",
    "* $q_i$ the number of unique instantiations of $\\pi_i$ relative to D\n",
    "* $w_{ij}$ denotes the jth unique instantiation of $\\pi_i$ relative to D\n",
    "* $N_{ijk}$ is the number of cases in D in which the variable $x_i$ has the value $v_{ik}$ and $\\pi_i$ is instantiated as $w_{ij}$\n",
    "* $N_{ij}=\\sum_{k=1}^{r_i}N_{ijk}$"
   ]
  },
  {
   "cell_type": "markdown",
   "id": "93dc9517",
   "metadata": {},
   "source": [
    "### Explaination of the equation (2)\n",
    "Consider the following Bayesian Network:\n",
    "\n",
    "<img src=\"https://i.ibb.co/n3hgVxm/RCOv-Zs-QPAZmc-Sym-L.png\" width=\"300\"/>\n",
    "\n",
    "An example of this Network can be:\n",
    "* **X1**: it has rained\n",
    "* **X2**: the automatic dripper was recently on\n",
    "* **X3**: I slip and fall\n",
    "* **X4**: I arrive late to work\n",
    "\n",
    "The event _slip and fall_ depends on wether the floor is wet. And _falling_ may have some causality on _arriving late to work_.\\\n",
    "Let D be the Data about these events,  consider this set:\n",
    "\n",
    "| X1 | X2 | X3 | X4 |\n",
    "|----|----|----|----|\n",
    "| 0  | 0  | 0  | 0  |\n",
    "| 0  | 0  | 0  | 1  |\n",
    "| 0  | 1  | 0  | 0  |\n",
    "| 1  | 1  | 1  | 1  |\n",
    "| 0  | 1  | 1  | 1  |\n",
    "| 1  | 0  | 1  | 1  |\n",
    "\n",
    "\n",
    "The probability of the Bayesian Network to be true given the data is proportional to $P(B_S,D)$ given by the formula (1).\n",
    "\n",
    "For simplicity, consider the events of each node being only 0 or 1:\n",
    "$$X1,X2,X3,X4\\, \\in\\,\\{0,1\\} \\qquad\\left(=\\,\\{TRUE,FALSE\\}\\right)$$"
   ]
  },
  {
   "cell_type": "markdown",
   "id": "0396a523",
   "metadata": {},
   "source": [
    "The first term of the $\\Pi$ goes through each nodes, let us describe them one by one:\n",
    "* $n=1$\n",
    "    * $r_1=2;\\hspace{2cm}$  X1 can be either 0 or 1\n",
    "    * $\\pi_1 = \\emptyset;\\hspace{1.8cm}$ since X1 has no parents\n",
    "    * $q_1 = 1;\\hspace{1.95cm}$ Since $\\pi_1=\\emptyset$, the possible rearrangments reduce to one\n",
    "    * $N_{1jk};\\hspace{2.4cm}$ If the node has no parents, this ends up being the number of unique terms\n",
    "    * $N_{1j};\\hspace{2.5cm}$ evaluates to the sum of the terms inside the last $\\Pi$\n",
    "    \n",
    "    $$\\frac{(2-1)!}{(N_{11}+2 - 1)!}\\prod_{k=1}^{2}N_{11k}! = \\frac{\\prod_{k=1}^{2}N_{11k}!}{(N_{11} +1)!}=$$\n",
    "    (For k=1 we count the zeros, for k=2 we count the ones)\n",
    "    $$=\\frac{4!2!}{(4+2 +1)!}=0.0095$$"
   ]
  },
  {
   "cell_type": "markdown",
   "id": "059c7ea1",
   "metadata": {},
   "source": [
    "* $n=2$\n",
    "    Exactly the same, only the terms $N_{ij}$ and $N_{ijk}$ change\n",
    "    $$\\frac{(2-1)!}{(N_{21}+2 - 1)!}\\prod_{k=1}^{2}N_{21k}! = \\frac{\\prod_{k=1}^{2}N_{21k}!}{(N_{21} +1)!}=\\frac{3!3!}{(3+3+1)!}=0.0071$$"
   ]
  },
  {
   "cell_type": "markdown",
   "id": "5aa2a0c5",
   "metadata": {},
   "source": [
    "* $n=3$\\\n",
    "    X3 has parents X1 and X2, this means:\n",
    "    * $r_3=2;\\hspace{2cm}$  X3 can be either 0 or 1\n",
    "    * $\\pi_3 = \\{X1,X2\\};$\n",
    "    * $q_3 = 4;\\hspace{1.95cm}$ Since both X1 and X2 can assume two values each, the number of all possible permutation of the unique elements of X1 and X2 is 4\n",
    "    * $w_{3j}=\\{ \\{0,0\\},\\{0,1\\},\\{1,0\\},\\{1,1\\}\\}$\n",
    "    * $N_{3jk};\\hspace{2.3cm}$ the number of observations in D that X3 assumes the k-th value, and $\\{X1,X2\\}$ assume the j-th value from $w_{3j}$\n",
    "    \n",
    "    $$\\prod_{j=1}^{4}\\frac{(2-1)!}{(N_{3j}+ 2- 1)!}\\prod_{k=1}^{2}N_{3jk}! = \\prod_{j=1}^{4}\\frac{\\prod_{k=1}^{2}N_{3jk}!}{(N_{3j}+ 1)!}$$\n",
    "     * j = 1\\\n",
    "     We consider when X1 and X2 assume the value $w_{31}=\\{0,0\\}$\n",
    "     When \\{X1,X2\\}=\\{0,0\\}, X3 is 0 twice (k=1) and is never 1 (k=2)\n",
    "     \n",
    "     * j = 2\\\n",
    "     We consider when X1 and X2 assume the value $w_{31}=\\{0,1\\}$\n",
    "     When \\{X1,X2\\}=\\{0,1\\}, X3 is 0 once (k=1) and once (k=2)\n",
    "     \n",
    "     * and so on...\n",
    "     \n",
    "     $$\\prod_{j=1}^{4}\\frac{\\prod_{k=1}^{2}N_{3jk}!}{(N_{3j}+ 1)!}=\\frac{0!2!}{3!}\\frac{1!1!}{3!}\\frac{0!1!}{2!}\\frac{0!1!}{2!}=0.028$$"
   ]
  },
  {
   "cell_type": "markdown",
   "id": "d414c3cf",
   "metadata": {},
   "source": [
    "* $n=4$\\\n",
    "    For X4 the computation is easier than for X3 because there's only one parent node, meaning that q is only 2:\n",
    "    $$\\prod_{j=1}^{2}\\frac{(2-1)!}{(N_{4j}+ 2- 1)!}\\prod_{k=1}^{2}N_{4jk}!=\\prod_{j=1}^{2}\\frac{ \\prod_{k=1}^{2}N_{4jk}! }{(N_{4j}+ 2- 1)!}=$$\n",
    "    \n",
    "    To compute $N_{4jk}$ we must count the times X4 is 0/1 when X3 assumes the values 0 and 1:\n",
    "    \n",
    "    $$=\\frac{2!1!}{4!}\\frac{3!0!}{4!}=0.021$$"
   ]
  },
  {
   "cell_type": "markdown",
   "id": "a6f98954",
   "metadata": {},
   "source": [
    "\\\n",
    "Now that we have a way to compute the probability of a model to be true, we could theoretically compute it for every model and choose the one with the highest value. However, as demonstrated by Robinson's formula, the number of possible Networks grows exponentially as the number of nodes increases:"
   ]
  },
  {
   "cell_type": "code",
   "execution_count": null,
   "id": "db43a637",
   "metadata": {},
   "outputs": [],
   "source": [
    "# Robinson recursive formula to compute the number of possible belief-network stuctures\n",
    "# that contains n nodes\n",
    "# From: A Bayesian Method for the Induction of Probabilistic Networks from Data, p. 319\n",
    "n.networks.structure <- function(n)\n",
    "    {\n",
    "        if(n <= 1){return(1)}\n",
    "        else\n",
    "            {\n",
    "                i <- 1\n",
    "                res <- 0\n",
    "                while(i <= n)\n",
    "                    {\n",
    "                        res <- res + ((i%%2)*2 - 1)*(choose(n,i)*(2^(i*(n-i)))*n.networks.structure(n-i))\n",
    "                        i <- i + 1\n",
    "                    }\n",
    "\n",
    "                return(res)\n",
    "            }\n",
    "    }\n",
    "\n",
    "for(i in 1:8)\n",
    "    {\n",
    "        cat('For n=',i,'the number of possible structures is: ',n.networks.structure(i),'\\n')\n",
    "    }\n"
   ]
  },
  {
   "cell_type": "markdown",
   "id": "f58be40a",
   "metadata": {},
   "source": [
    "\\\n",
    "Even for small Networks, it would be preferable to apply a more heuristic approach in finding the best Network. The approach chosen here is the K2 algorithm [2]\n"
   ]
  },
  {
   "cell_type": "markdown",
   "id": "847b8cb9",
   "metadata": {},
   "source": [
    "## 1. Implement the algorithm K2 in R and check its performances with the test data set given in [2]"
   ]
  },
  {
   "cell_type": "code",
   "execution_count": null,
   "id": "b63e7385",
   "metadata": {},
   "outputs": [],
   "source": [
    "############ AUXILIARY FUNCTIONS ###############\n",
    "\n",
    "prob.noparents <- function(D,namecol,prod)\n",
    "    {\n",
    "        lprod <- log(prod)\n",
    "        col <- dplyr::pull(D, namecol)\n",
    "        nunique <- length(unique(col))\n",
    "        lprod <- lprod+lfactorial(nunique-1)\n",
    "        den <- nunique - 1\n",
    "    \n",
    "        for(i in 1:nunique)\n",
    "            {\n",
    "                lprod <- lprod+lfactorial(length(col[col == unique(col)[i]]))\n",
    "                den <- den + length(col[col == unique(col)[i]])\n",
    "            }\n",
    "        lprod <- lprod - lfactorial(den)\n",
    "\n",
    "        nprod <- exp(lprod)\n",
    "    \n",
    "        return(nprod)\n",
    "    }\n",
    "\n",
    "is.eq <- function(row1,row2){return(row1 == row2)}\n",
    "\n",
    "prob.parents <- function(BN,D,namecol,prod)\n",
    "    {\n",
    "        lprod <- log(prod)\n",
    "        col <- dplyr::pull(D, namecol)\n",
    "        parents <- parents(BN, namecol)\n",
    "        n.parents <- length(parents)\n",
    "        col.parents <- D[parents]\n",
    "        r <- length(unique(col))\n",
    "\n",
    "        q <- 1\n",
    "        combined <- list()\n",
    "        for(j in 1:length(parents))\n",
    "            {\n",
    "                q <- q*length(unique(col.parents[,j]))\n",
    "                combined[[j]] <- unique(col.parents[,j])    \n",
    "            }\n",
    "        combinations <- do.call(expand.grid, combined)\n",
    "        # for j in 1:qi\n",
    "        for(j in 1:q)\n",
    "            {\n",
    "                w  <- combinations[j,]\n",
    "                # Compute Nijk!\n",
    "                nij <- 0\n",
    "                for(k in 1:r)\n",
    "                    {\n",
    "                        wij <- c(w,unique(col)[k])\n",
    "                        nijk <- sum(apply(apply(cbind(col.parents, col),1,is.eq,row2=wij),2,all))\n",
    "                        nij <- nij + nijk\n",
    "                        lprod <- lprod+lfactorial(nijk)\n",
    "                    }\n",
    "                lprod <- lprod+lfactorial(r - 1) - lfactorial(nij + r - 1)\n",
    "            }\n",
    "\n",
    "        nprod <- exp(lprod)\n",
    "    \n",
    "        return(nprod)\n",
    "\n",
    "    }\n",
    "\n",
    "#############################################"
   ]
  },
  {
   "cell_type": "code",
   "execution_count": null,
   "id": "e77b9055",
   "metadata": {},
   "outputs": [],
   "source": [
    "prob.model <- function(BN,D)\n",
    "    {\n",
    "        nvar <- length(nodes(BN))\n",
    "        prod <- 1\n",
    "        for(i in 1:nvar)\n",
    "            {\n",
    "                if(length(parents(BN, nodes(BN)[i])) == 0)\n",
    "                    {prod <- prob.noparents(D,nodes(BN)[i],prod)}\n",
    "                else\n",
    "                    {prod <- prob.parents(BN,D,nodes(BN)[i],prod)}\n",
    "                \n",
    "            }\n",
    "    \n",
    "        return(prod)\n",
    "    }"
   ]
  },
  {
   "cell_type": "markdown",
   "id": "676097f0",
   "metadata": {},
   "source": [
    "\\\n",
    "```prob.model(BN,D)``` computes the value $P(BN,D)$ through the formula (2), to check if it is correctly implemented, the result is compared with the values shown in [1]:"
   ]
  },
  {
   "cell_type": "code",
   "execution_count": null,
   "id": "6d00dbb9",
   "metadata": {},
   "outputs": [],
   "source": [
    "ex <- read.table(\"./dataset/cooper.txt\", header = TRUE, stringsAsFactors = TRUE)"
   ]
  },
  {
   "cell_type": "code",
   "execution_count": null,
   "id": "78c74a3d",
   "metadata": {},
   "outputs": [],
   "source": [
    "ex.bn1 <- model2network(\"[X1][X2|X1][X3|X2]\")\n",
    "graphviz.plot(ex.bn1,layout = 'neato')\n",
    "cat('In the paper the result is:              P(B1,D)=P(B1) 2.23*10^(-9)')\n",
    "cat('\\nthrough the function implemented we get: P(B1,D)=P(B1)',prob.model(ex.bn1,ex),'\\n\\n')"
   ]
  },
  {
   "cell_type": "code",
   "execution_count": null,
   "id": "edb69e15",
   "metadata": {},
   "outputs": [],
   "source": [
    "ex.bn2 <- model2network(\"[X1][X2|X1][X3|X1]\")\n",
    "graphviz.plot(ex.bn2)\n",
    "cat('In the paper the result is:              P(B2,D)=P(B2) 2.23*10^(-10)')\n",
    "cat('\\nthrough the function implemented we get: P(B2,D)=P(B2)',prob.model(ex.bn2,ex),'\\n')"
   ]
  },
  {
   "cell_type": "markdown",
   "id": "1f76256d",
   "metadata": {},
   "source": [
    "The function ```prob.model(BN,D)``` seems to work well since it reproduces the same values of the paper!"
   ]
  },
  {
   "cell_type": "markdown",
   "id": "a662847b",
   "metadata": {},
   "source": [
    "### Implementing K2 algorithm"
   ]
  },
  {
   "cell_type": "code",
   "execution_count": null,
   "id": "1f02c3ce",
   "metadata": {},
   "outputs": [],
   "source": [
    "f <- function(BN,D,i)\n",
    "            {\n",
    "                prod <- 1\n",
    "            \n",
    "                if(length(parents(BN, nodes(BN)[i])) == 0)\n",
    "                    {prod <- prob.noparents(D,nodes(BN)[i],prod)}\n",
    "                else\n",
    "                    {prod <- prob.parents(BN,D,nodes(BN)[i],prod)}\n",
    "               \n",
    "                return(prod)\n",
    "            }"
   ]
  },
  {
   "cell_type": "code",
   "execution_count": null,
   "id": "8a94910b",
   "metadata": {},
   "outputs": [],
   "source": [
    "K2 <- function(N,D,u)\n",
    "    {\n",
    "        BN <- empty.graph(nodes = N)\n",
    "    \n",
    "        for(i in 2:length(N))\n",
    "            {\n",
    "                p.old <- f(BN,D,i)\n",
    "                ok.to.proceed <- TRUE\n",
    "                j <- i - 1\n",
    "                                \n",
    "                while(ok.to.proceed & (length(parents(BN,nodes(BN)[i])) < u) )\n",
    "                    {   \n",
    "                        j <- i - 1\n",
    "                        proposal <- c()\n",
    "                    \n",
    "                        while(j > 0)\n",
    "                            {\n",
    "                                    BN.proposal <- set.arc(BN, from=nodes(BN)[j], to=nodes(BN)[i])\n",
    "                                    proposal <- c(proposal, f(BN.proposal,D,i))\n",
    "\n",
    "                                    j <- j - 1 \n",
    "                            }\n",
    "                        \n",
    "                        p.new <- max(proposal)\n",
    "                        best.BN   <- set.arc(BN, from=nodes(BN)[i - match(max(proposal),proposal)], to=nodes(BN)[i])\n",
    "                        if(p.new > p.old)\n",
    "                            {\n",
    "                                    p.old <- p.new\n",
    "                                    BN <- best.BN\n",
    "                            }\n",
    "                        else{ok.to.proceed <- FALSE}\n",
    "                    }\n",
    "                \n",
    "            }\n",
    "        \n",
    "        return(BN)\n",
    "    }"
   ]
  },
  {
   "cell_type": "code",
   "execution_count": null,
   "id": "d907ac44",
   "metadata": {},
   "outputs": [],
   "source": [
    "graphviz.plot(K2(c('X1','X2','X3'),ex,3))"
   ]
  },
  {
   "cell_type": "markdown",
   "id": "4dae4d3e",
   "metadata": {},
   "source": [
    "## 2. Implement and test the K2 algorithm with the test data sets ([2]).  Investigate if it is possible to code it inside the bnstruct R package"
   ]
  },
  {
   "cell_type": "code",
   "execution_count": null,
   "id": "37f898a6",
   "metadata": {},
   "outputs": [],
   "source": [
    "suppressMessages(library(bnstruct)) # we load bnstruct but suppress the messages, too pedantic!"
   ]
  },
  {
   "cell_type": "markdown",
   "id": "f362afd4",
   "metadata": {},
   "source": [
    "### Testing bnstruct on SURVEY dataset"
   ]
  },
  {
   "cell_type": "code",
   "execution_count": null,
   "id": "1aadb7be",
   "metadata": {},
   "outputs": [],
   "source": [
    "# Loading the survey dataset\n",
    "ex.survey <- read.table(\"./dataset/surveymod.txt\", header = TRUE, stringsAsFactors = TRUE)\n",
    "\n",
    "# Adding 1 to each values, having 0 as a possible value the nodes could assume caused errors\n",
    "ex.survey.mod <- ex.survey + 1\n",
    "\n",
    "dataset.survey <- BNDataset(data = ex.survey.mod,                                             # dataset\n",
    "                            variables = names(ex.survey.mod),                                 # names of the nodes\n",
    "                            num.nodes = 6,                                                    # number of nodes\n",
    "                            discreteness = matrix(c(TRUE,TRUE,TRUE,TRUE,TRUE,TRUE),nrow=1),   # TRUE if nodes i is discreet\n",
    "                            node.sizes = c(3,2,2,2,2,3))                                      # cardinality of the nodes\n",
    "\n",
    "# learn.network will use an heuristic approach (not K2) to learn the structure. Default = MMHC\n",
    "bn.survey <- learn.network(dataset.survey)\n",
    "\n",
    "plot(bn.survey)"
   ]
  },
  {
   "cell_type": "code",
   "execution_count": null,
   "id": "3da6858d",
   "metadata": {},
   "outputs": [],
   "source": [
    "# From the theory lessons: We build the most 'correct' dataset, i.e the ones that outputs the highest probability:\n",
    "survey.bn.best <- empty.graph(nodes = c(\"A\", \"S\", \"E\", \"O\", \"R\", \"T\"))\n",
    "survey.bn.best <- set.arc(survey.bn.best, from = \"A\", to = \"E\")\n",
    "survey.bn.best <- set.arc(survey.bn.best, from = \"S\", to = \"E\")\n",
    "survey.bn.best <- set.arc(survey.bn.best, from = \"E\", to = \"O\")\n",
    "survey.bn.best <- set.arc(survey.bn.best, from = \"E\", to = \"R\")\n",
    "survey.bn.best <- set.arc(survey.bn.best, from = \"O\", to = \"T\")\n",
    "survey.bn.best <- set.arc(survey.bn.best, from = \"R\", to = \"T\")\n",
    "graphviz.plot(survey.bn.best)"
   ]
  },
  {
   "cell_type": "markdown",
   "id": "132eb1d3",
   "metadata": {},
   "source": [
    "The two networks are obviously different, this is because the heuristic approach MMHC did not find the best model."
   ]
  },
  {
   "cell_type": "code",
   "execution_count": null,
   "id": "08023916",
   "metadata": {},
   "outputs": [],
   "source": [
    "bn.survey <- learn.network(dataset.survey,algo='mmpc')\n",
    "plot(bn.survey)"
   ]
  },
  {
   "cell_type": "markdown",
   "id": "590264b2",
   "metadata": {},
   "source": [
    "### Testing bnstruct on ([2]) dataset"
   ]
  },
  {
   "cell_type": "markdown",
   "id": "af7af996",
   "metadata": {},
   "source": [
    "########################### **Markdown needs to be changed after Gerardo changes!** ##################################"
   ]
  },
  {
   "cell_type": "code",
   "execution_count": null,
   "id": "57f638e9",
   "metadata": {},
   "outputs": [],
   "source": [
    "ex.cooper <- read.table(\"./dataset/cooper.txt\", header = TRUE, stringsAsFactors = TRUE)\n",
    "\n",
    "# ex.cooper variables assume the values {0,1}, however in bnstruct, 0 is considered out of range, we need to shift every\n",
    "# value to 1 ({0,1} -> {1,2})\n",
    "ex.cooper <- ex.cooper + 1\n",
    "\n",
    "dataset.cooper <- BNDataset(data = ex.cooper,                                 # dataset\n",
    "                            num.nodes = 3,                                    # number of nodes\n",
    "                            variables = c('X1','X2','X3'),                    # names of the variables\n",
    "                            discreteness = matrix(c(TRUE,TRUE,TRUE),nrow=1),  # TRUE if the variable is discreet\n",
    "                            node.sizes = c(2,2,2))                            # cardinality of the variables\n",
    "\n",
    "bn.cooper <- learn.network(dataset.cooper)\n",
    "\n",
    "plot(bn.cooper)"
   ]
  },
  {
   "cell_type": "markdown",
   "id": "bf5cb621",
   "metadata": {},
   "source": [
    "The structure learnt by bnstruct seems correct, however the arrow: $X1\\leftarrow X2$ is directed wrongly. This could be caused either by the heuristic search of the model, or by the plot function"
   ]
  },
  {
   "cell_type": "markdown",
   "id": "3925ab3e",
   "metadata": {},
   "source": [
    "The default learning method is MMHC **(maybe explain MMHC)**. From the options avaible there is no K2 method:"
   ]
  },
  {
   "cell_type": "code",
   "execution_count": null,
   "id": "7d3aa0b5",
   "metadata": {},
   "outputs": [],
   "source": [
    "bn.cooper <- learn.network(dataset.cooper,\n",
    "                           algo='k2')  # algo is the algorithm to find the best model, default = MMHC"
   ]
  },
  {
   "cell_type": "markdown",
   "id": "7c88b6c0",
   "metadata": {},
   "source": [
    "We now unload the package bnstruct to load a local modified version of it:"
   ]
  },
  {
   "cell_type": "code",
   "execution_count": null,
   "id": "de0dd860",
   "metadata": {},
   "outputs": [],
   "source": [
    "detach(package:bnstruct, TRUE)"
   ]
  },
  {
   "cell_type": "code",
   "execution_count": null,
   "id": "4237b2ec",
   "metadata": {},
   "outputs": [],
   "source": [
    "library(devtools)\n",
    "suppressMessages(load_all('./bnstruct-modified'))"
   ]
  },
  {
   "cell_type": "code",
   "execution_count": null,
   "id": "c953dc71",
   "metadata": {},
   "outputs": [],
   "source": [
    "D <- read.table(\"./dataset/cooper.txt\", header = TRUE, stringsAsFactors = TRUE)\n",
    "bn.cooper <- learn.network(dataset.cooper, algo='k2')"
   ]
  },
  {
   "cell_type": "markdown",
   "id": "6ba858f6",
   "metadata": {},
   "source": [
    "The local _bnstruct_ package was modified in order to host another algorithm method for k2. If K2 is passed as an input of the parameter ```algo``` in the function ```learn.network()```, the function K2 seen above will be used"
   ]
  },
  {
   "cell_type": "markdown",
   "id": "80df6665",
   "metadata": {},
   "source": [
    "In the function ```learn.network()``` the network is passed as a bnstruct network, however, since the K2 function was made for bnlearn networks, it is converted as one and used as input in the K2 function.\n",
    "\n",
    "<img src=\"https://i.ibb.co/nQvW4dd/Screenshot-at-2021-06-27-12-27-18.png\" width=\"500\"/>\n",
    "\n",
    "However it still misses the last part (red arrow) where the bnlearn network is converted back in a bnstruct network."
   ]
  },
  {
   "cell_type": "code",
   "execution_count": null,
   "id": "1a69789f",
   "metadata": {},
   "outputs": [],
   "source": []
  },
  {
   "cell_type": "markdown",
   "id": "7784bd75",
   "metadata": {},
   "source": [
    "## Further improvements\n",
    "For the task of finding the best Network, Factorials play a central role (See Equation 2).\\\n",
    "The bigger the dataset is, the bigger the arguments in the factorials are. This causes our implementation not to work for big datasets (as _survey.txt_).\n",
    "\n",
    "The code could be further improved by implementing advanced factorial functions (e. g. ```gmp::factorialZ()```) or using workarounds such as _Strirling approximation_ or even using the built-in function of log-factorial ```lfactorial()```. We chose the latter approach.\n",
    "\n",
    "Another obstacle happens when dealing with datasets with a high number of nodes, in fact the probabilities computed by the function ```prob-model()``` are so low (given the high number of possible networks) that they are all approximated as 0, making the task of finding the one with the highest probability, not possible.\n",
    "\n",
    "This means that in order to apply this algorithm with High Numbers of Nodes and Instances, one must deal with high numbers (due to the factorials) and small numbers (due to the small probabilities) that would normally Overflow and Underflow, respectively."
   ]
  },
  {
   "cell_type": "markdown",
   "id": "8861e1ba",
   "metadata": {},
   "source": [
    "## References\n",
    "[1] G. F. Cooper and E. Herskovits, _A Bayesian Method for the Induction of Probabilistic Networks from Data_, Machine Learning 9, (1992) 309\\\n",
    "[2] C. Ruiz, _Illustration of the K2 Algorithm for learning Bayes Net Structures_, http://web.cs.wpi.edu/~cs539/s11/Projects/k2_algorithm.pdf \\\n",
    "[3] A. Franzin et al., _bnstruct: an R package for Bayesian Network structure learning in the presence of missing data_, Bioinformatics 33(8) 2017 1250\\\n",
    "[4] F. Sambo and A. Franzin, _bnstruct: an R package for Bayesian Network structure learning in the presence of missing data_, December 12, 2016"
   ]
  },
  {
   "cell_type": "code",
   "execution_count": null,
   "id": "8716ab00",
   "metadata": {},
   "outputs": [],
   "source": []
  }
 ],
 "metadata": {
  "kernelspec": {
   "display_name": "R",
   "language": "R",
   "name": "ir"
  },
  "language_info": {
   "codemirror_mode": "r",
   "file_extension": ".r",
   "mimetype": "text/x-r-source",
   "name": "R",
   "pygments_lexer": "r",
   "version": "3.6.3"
  }
 },
 "nbformat": 4,
 "nbformat_minor": 5
}
