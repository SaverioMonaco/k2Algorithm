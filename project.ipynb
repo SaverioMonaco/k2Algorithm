{
 "cells": [
  {
   "cell_type": "markdown",
   "metadata": {},
   "source": [
    "# Learning the topology of a Bayesian Network from a database of cases using the K2 algorithm"
   ]
  },
  {
   "cell_type": "code",
   "execution_count": null,
   "metadata": {},
   "outputs": [],
   "source": [
    "library(tidyverse)\n",
    "\n",
    "# Installed just by typing install.packages('bnlearn')\n",
    "library(bnlearn)\n",
    "\n",
    "# This was a bit more complicated to install:\n",
    "# install.packages(\"BiocManager\")\n",
    "# BiocManager::install(\"Rgraphviz\")\n",
    "library(Rgraphviz)"
   ]
  },
  {
   "cell_type": "markdown",
   "metadata": {},
   "source": [
    "_Bayesian Networks_ are graphical models in which the nodes are the Random Variables, and the edges represent the conditional probabilities the Variables can have one another. They can be applied in many fields ranging from Image Processing to Medical Diagnosis, however a critical task in its application is to find the correct Network Structure i.e. finding the correct edges (the casualities of the variables) given the nodes.\n",
    "\n",
    "Finding the best Network structure can be matematically expressed through this formula:\n",
    "\n",
    "$$goal:\\quad \\max_x\\left[P(B_{x}|D)\\right]\\tag{1}$$\n",
    "\n",
    "Meaning we aim to find the Bayesian Network $B_x$ that maximizes the probability of the Network being correct, given a set of Data samples D.\n",
    "\n",
    "Through the definition of conditional probability, we can rearrange the formula (1):\n",
    "\n",
    "$$P(B_{x}|D)=\\frac{P(B_{x},D)}{P(D)}$$\n",
    "\n",
    "being $P(D)$ equal for every model, the task can be converted in finding the model that maximized the quantity $P(B_x,D)$"
   ]
  },
  {
   "cell_type": "markdown",
   "metadata": {},
   "source": [
    " \n",
    " \n",
    "In [1] is reported the proof of the following formula:\n",
    "\\\n",
    "$$P(B_x,D)=P(B_x)\\prod_{i=1}^n\\prod_{j=1}^{q_i}\\frac{(r_i-1)!}{(N_{ij}+r_i - 1)!}\\prod_{k=1}^{r_i}N_{ijk}! \\tag{2}$$\n",
    "\n",
    "* $P(B_x)$ is the prior probability of the model, if we assume every model to be as likely as the others then it is just a constant\n",
    "* $r_i$ is the number of possible value assignments of the i-th variable\n",
    "* $\\pi_i$ is the set of parents for the node i\n",
    "* $q_i$ the number of unique instantiations of $\\pi_i$ relative to D\n",
    "* $w_{ij}$ denotes the jth unique instantiation of $\\pi_i$ relative to D\n",
    "* $N_{ijk}$ is the number of cases in D in which the variable $x_i$ has the value $v_{ik}$ and $\\pi_i$ is instantiated as $w_{ij}$\n",
    "* $N_{ij}=\\sum_{k=1}^{r_i}N_{ijk}$"
   ]
  },
  {
   "cell_type": "markdown",
   "metadata": {},
   "source": [
    "### Explaination of the equation (2)\n",
    "Consider the following Bayesian Network:\n",
    "\n",
    "<img src=\"https://i.ibb.co/n3hgVxm/RCOv-Zs-QPAZmc-Sym-L.png\" width=\"300\"/>\n",
    "\n",
    "An example of this Network can be:\n",
    "* **X1**: it has rained\n",
    "* **X2**: the automatic dripper was recently on\n",
    "* **X3**: I slip and fall\n",
    "* **X4**: I arrive late to work\n",
    "\n",
    "The event _slip and fall_ depends on wether the floor is wet. And _falling_ may have some causality on _arriving late to work_.\\\n",
    "Let D be the Data about these events,  consider this set:\n",
    "\n",
    "| X1 | X2 | X3 | X4 |\n",
    "|----|----|----|----|\n",
    "| 0  | 0  | 0  | 0  |\n",
    "| 0  | 0  | 0  | 1  |\n",
    "| 0  | 1  | 0  | 0  |\n",
    "| 1  | 1  | 1  | 1  |\n",
    "| 0  | 1  | 1  | 1  |\n",
    "| 1  | 0  | 1  | 1  |\n",
    "\n",
    "\n",
    "The probability of the Bayesian Network to be true given the data is proportional to $P(B_S,D)$ given by the formula (1).\n",
    "\n",
    "For simplicity, consider the events of each node being only 0 or 1:\n",
    "$$X1,X2,X3,X4\\, \\in\\,\\{0,1\\} \\qquad\\left(=\\,\\{TRUE,FALSE\\}\\right)$$"
   ]
  },
  {
   "cell_type": "markdown",
   "metadata": {},
   "source": [
    "The first term of the $\\Pi$ goes through each nodes, let us explicit them one by one:\n",
    "* $n=1$\n",
    "    * $r_1=2;\\hspace{2cm}$  X1 can be either 0 or 1\n",
    "    * $\\pi_1 = \\emptyset;\\hspace{1.8cm}$ since X1 has no parents\n",
    "    * $q_1 = 1;\\hspace{1.95cm}$ Since $\\pi_1=\\emptyset$, the possible rearrangments are just one\n",
    "    * $N_{1jk};\\hspace{2.4cm}$ If the node has no parents, this ends up being the counts of unique terms\n",
    "    * $N_{1j};\\hspace{2.5cm}$ always ends up being the sum of the terms inside the last $\\Pi$\n",
    "    \n",
    "    $$\\frac{(2-1)!}{(N_{11}+2 - 1)!}\\prod_{k=1}^{2}N_{11k}! = \\frac{\\prod_{k=1}^{2}N_{11k}!}{(N_{11} +1)!}=$$\n",
    "    (For k=1 we count the zeros, for k=2 we count the ones)\n",
    "    $$=\\frac{4!2!}{(4+2 +1)!}=0.0095$$"
   ]
  },
  {
   "cell_type": "markdown",
   "metadata": {},
   "source": [
    "* $n=2$\n",
    "    Exactly the same, only the terms $N_{ij}$ and $N_{ijk}$ change\n",
    "    $$\\frac{(2-1)!}{(N_{21}+2 - 1)!}\\prod_{k=1}^{2}N_{21k}! = \\frac{\\prod_{k=1}^{2}N_{21k}!}{(N_{21} +1)!}=\\frac{3!3!}{(3+3+1)!}=0.0071$$"
   ]
  },
  {
   "cell_type": "markdown",
   "metadata": {},
   "source": [
    "* $n=3$\\\n",
    "    X3 has parents X1 and X2, this means:\n",
    "    * $r_3=2;\\hspace{2cm}$  X3 can be either 0 or 1\n",
    "    * $\\pi_3 = \\{X1,X2\\};$\n",
    "    * $q_3 = 4;\\hspace{1.95cm}$ Since both X1 and X2 can assume two values, the number of all possible permutation of the unique elements of X1 and X2 are 4\n",
    "    * $w_{3j}=\\{ \\{0,0\\},\\{0,1\\},\\{1,0\\},\\{1,1\\}\\}$\n",
    "    * $N_{3jk};\\hspace{2.3cm}$ Is the counts of times in D that X3 assumes the k-th value, and $\\{X1,X2\\}$ assume the j-th value from $w_{3j}$\n",
    "    \n",
    "    $$\\prod_{j=1}^{4}\\frac{(2-1)!}{(N_{3j}+ 2- 1)!}\\prod_{k=1}^{2}N_{3jk}! = \\prod_{j=1}^{4}\\frac{\\prod_{k=1}^{2}N_{3jk}!}{(N_{3j}+ 1)!}$$\n",
    "     * j = 1\\\n",
    "     We consider when X1 and X2 assume the value $w_{31}=\\{0,0\\}$\n",
    "     When \\{X1,X2\\}=\\{0,0\\}, X3 is 0 twice (k=1) and is never 1 (k=2)\n",
    "     \n",
    "     * j = 2\\\n",
    "     We consider when X1 and X2 assume the value $w_{31}=\\{0,1\\}$\n",
    "     When \\{X1,X2\\}=\\{0,1\\}, X3 is 0 once (k=1) and once (k=2)\n",
    "     \n",
    "     * and so on...\n",
    "     \n",
    "     $$\\prod_{j=1}^{4}\\frac{\\prod_{k=1}^{2}N_{3jk}!}{(N_{3j}+ 1)!}=\\frac{0!2!}{3!}\\frac{1!1!}{3!}\\frac{0!1!}{2!}\\frac{0!1!}{2!}=0.028$$"
   ]
  },
  {
   "cell_type": "markdown",
   "metadata": {},
   "source": [
    "* $n=4$\\\n",
    "    For X4 the computation is easier than for X3 because there's only one parent node, meaning that q is only 2:\n",
    "    $$\\prod_{j=1}^{2}\\frac{(2-1)!}{(N_{4j}+ 2- 1)!}\\prod_{k=1}^{2}N_{4jk}!=\\prod_{j=1}^{2}\\frac{ \\prod_{k=1}^{2}N_{4jk}! }{(N_{4j}+ 2- 1)!}=$$\n",
    "    \n",
    "    To compute $N_{4jk}$ we must count the times X4 is 0/1 when X3 assumes the values 0 and 1:\n",
    "    \n",
    "    $$=\\frac{2!1!}{4!}\\frac{3!0!}{4!}=0.021$$"
   ]
  },
  {
   "cell_type": "markdown",
   "metadata": {},
   "source": [
    "\\\n",
    "Now that we have a way to compute the probability of a model to be true, we could theoretically compute it for every model and take the one with the highest value. However as demonstrated by Robinson's formula, the number of possible Networks grows exponentially as the number of nodes increases:"
   ]
  },
  {
   "cell_type": "code",
   "execution_count": null,
   "metadata": {},
   "outputs": [],
   "source": [
    "# Robinson recursive formula to compute the number of possible belief-network stuctures\n",
    "# that contains n nodes\n",
    "# From: A Bayesian Method for the Induction of Probabilistic Networks from Data, p. 319\n",
    "n.networks.structure <- function(n)\n",
    "    {\n",
    "        if(n <= 1){return(1)}\n",
    "        else\n",
    "            {\n",
    "                i <- 1\n",
    "                res <- 0\n",
    "                while(i <= n)\n",
    "                    {\n",
    "                        res <- res + ((i%%2)*2 - 1)*(choose(n,i)*(2^(i*(n-i)))*n.networks.structure(n-i))\n",
    "                        i <- i + 1\n",
    "                    }\n",
    "\n",
    "                return(res)\n",
    "            }\n",
    "    }\n",
    "\n",
    "for(i in 1:8)\n",
    "    {\n",
    "        cat('For n=',i,'the number of possible structures is: ',n.networks.structure(i),'\\n')\n",
    "    }\n"
   ]
  },
  {
   "cell_type": "markdown",
   "metadata": {},
   "source": [
    "\\\n",
    "Even for small Networks, it would be preferable to apply a more heuristic approach in finding the best Network. The approach chosen here is K2 algorithm [2]\n"
   ]
  },
  {
   "cell_type": "markdown",
   "metadata": {},
   "source": [
    "## 1. Implement the algorithm K2 in R and check its performances with the test data set given in [2]"
   ]
  },
  {
   "cell_type": "code",
   "execution_count": null,
   "metadata": {},
   "outputs": [],
   "source": [
    "############ AUXILIARY FUNCTIONS ###############\n",
    "\n",
    "prob.noparents <- function(D,namecol,prod)\n",
    "    {\n",
    "        col <- dplyr::pull(D, namecol)\n",
    "        nunique <- length(unique(col))\n",
    "        prod <- prod*factorial(nunique-1)\n",
    "        den <- nunique - 1\n",
    "    \n",
    "        for(i in 1:nunique)\n",
    "            {\n",
    "                prod <- prod*factorial(length(col[col == unique(col)[i]]))\n",
    "                den <- den + length(col[col == unique(col)[i]])\n",
    "            }\n",
    "        prod <- prod/factorial(den)\n",
    "    \n",
    "        return(prod)\n",
    "    }\n",
    "\n",
    "is.eq <- function(row1,row2){return(row1 == row2)}\n",
    "\n",
    "prob.parents <- function(BN,D,namecol,prod)\n",
    "    {\n",
    "        col <- dplyr::pull(D, namecol)\n",
    "        parents <- parents(BN, namecol)\n",
    "        n.parents <- length(parents)\n",
    "        col.parents <- D[parents]\n",
    "        r <- length(unique(col))\n",
    "\n",
    "        q <- 1\n",
    "        combined <- list()\n",
    "        for(j in 1:length(parents))\n",
    "            {\n",
    "                q <- q*length(unique(col.parents[,j]))\n",
    "                combined[[j]] <- unique(col.parents[,j])    \n",
    "            }\n",
    "        combinations <- do.call(expand.grid, combined)\n",
    "        # for j in 1:qi\n",
    "        for(j in 1:q)\n",
    "            {\n",
    "                w  <- combinations[j,]\n",
    "                # Compute Nijk!\n",
    "                nij <- 0\n",
    "                for(k in 1:r)\n",
    "                    {\n",
    "                        wij <- c(w,unique(col)[k])\n",
    "                        nijk <- sum(apply(apply(cbind(col.parents, col),1,is.eq,row2=wij),2,all))\n",
    "                        nij <- nij + nijk\n",
    "                        prod <- prod*factorial(nijk)\n",
    "                    }\n",
    "                prod <- prod*factorial(r - 1)/factorial(nij + r - 1)\n",
    "            }\n",
    "    \n",
    "        return(prod)\n",
    "\n",
    "    }\n",
    "\n",
    "#############################################"
   ]
  },
  {
   "cell_type": "code",
   "execution_count": null,
   "metadata": {},
   "outputs": [],
   "source": [
    "prob.model <- function(BN,D)\n",
    "    {\n",
    "        nvar <- length(nodes(BN))\n",
    "        prod <- 1\n",
    "        for(i in 1:nvar)\n",
    "            {\n",
    "                if(length(parents(BN, nodes(BN)[i])) == 0)\n",
    "                    {prod <- prob.noparents(D,nodes(BN)[i],prod)}\n",
    "                else\n",
    "                    {prod <- prob.parents(BN,D,nodes(BN)[i],prod)}\n",
    "                \n",
    "            }\n",
    "    \n",
    "        return(prod)\n",
    "    }"
   ]
  },
  {
   "cell_type": "markdown",
   "metadata": {},
   "source": [
    "\\\n",
    "```prob.model(BN,D)``` computes the value $P(BN,D)$ through the formula (2), to check if it is correctly implemented, the result was compared with the values shown in [1]:"
   ]
  },
  {
   "cell_type": "code",
   "execution_count": null,
   "metadata": {},
   "outputs": [],
   "source": [
    "ex <- read.table(\"./dataset/cooper.txt\", header = TRUE, stringsAsFactors = TRUE)"
   ]
  },
  {
   "cell_type": "code",
   "execution_count": null,
   "metadata": {},
   "outputs": [],
   "source": [
    "ex.bn1 <- model2network(\"[X1][X2|X1][X3|X2]\")\n",
    "graphviz.plot(ex.bn1,layout = 'neato')\n",
    "cat('In the paper the result is:              P(B1,D)=P(B1) 2.23*10^(-9)')\n",
    "cat('\\nthrough the function implemented we get: P(B1,D)=P(B1)',prob.model(ex.bn1,ex),'\\n\\n')"
   ]
  },
  {
   "cell_type": "code",
   "execution_count": null,
   "metadata": {},
   "outputs": [],
   "source": [
    "ex.bn2 <- model2network(\"[X1][X2|X1][X3|X1]\")\n",
    "graphviz.plot(ex.bn2)\n",
    "cat('In the paper the result is:              P(B2,D)=P(B2) 2.23*10^(-10)')\n",
    "cat('\\nthrough the function implemented we get: P(B2,D)=P(B2)',prob.model(ex.bn2,ex),'\\n')"
   ]
  },
  {
   "cell_type": "markdown",
   "metadata": {},
   "source": [
    "The function ```prob.model(BN,D)``` seems to work well since it reproduces the same values of the paper!"
   ]
  },
  {
   "cell_type": "markdown",
   "metadata": {},
   "source": [
    "### Implementing K2 algorithm"
   ]
  },
  {
   "cell_type": "code",
   "execution_count": null,
   "metadata": {},
   "outputs": [],
   "source": [
    "f <- function(BN,D,i)\n",
    "            {\n",
    "                prod <- 1\n",
    "            \n",
    "                if(length(parents(BN, nodes(BN)[i])) == 0)\n",
    "                    {prod <- prob.noparents(D,nodes(BN)[i],prod)}\n",
    "                else\n",
    "                    {prod <- prob.parents(BN,D,nodes(BN)[i],prod)}\n",
    "               \n",
    "                return(prod)\n",
    "            }"
   ]
  },
  {
   "cell_type": "code",
   "execution_count": null,
   "metadata": {},
   "outputs": [],
   "source": [
    "K2 <- function(N,D,u)\n",
    "    {\n",
    "        BN <- empty.graph(nodes = N)\n",
    "    \n",
    "        for(i in 2:length(N))\n",
    "            {\n",
    "                p.old <- f(BN,D,i)\n",
    "                ok.to.proceed <- TRUE\n",
    "                j <- i - 1\n",
    "                                \n",
    "                while(ok.to.proceed & (length(parents(BN,nodes(BN)[i])) < u) )\n",
    "                    {   \n",
    "                        j <- i - 1\n",
    "                        proposal <- c()\n",
    "                    \n",
    "                        while(j > 0)\n",
    "                            {\n",
    "                                    BN.proposal <- set.arc(BN, from=nodes(BN)[j], to=nodes(BN)[i])\n",
    "                                    proposal <- c(proposal, f(BN.proposal,D,i))\n",
    "\n",
    "                                    j <- j - 1 \n",
    "                            }\n",
    "                        \n",
    "                        p.new <- max(proposal)\n",
    "                        best.BN   <- set.arc(BN, from=nodes(BN)[i - match(max(proposal),proposal)], to=nodes(BN)[i])\n",
    "                        if(p.new > p.old)\n",
    "                            {\n",
    "                                    p.old <- p.new\n",
    "                                    BN <- best.BN\n",
    "                            }\n",
    "                        else{ok.to.proceed <- FALSE}\n",
    "                    }\n",
    "                \n",
    "            }\n",
    "        \n",
    "        return(BN)\n",
    "    }"
   ]
  },
  {
   "cell_type": "code",
   "execution_count": null,
   "metadata": {},
   "outputs": [],
   "source": [
    "graphviz.plot(K2(c('X1','X2','X3'),ex,3))"
   ]
  },
  {
   "cell_type": "markdown",
   "metadata": {},
   "source": [
    "### Testing on SURVEY database"
   ]
  },
  {
   "cell_type": "code",
   "execution_count": null,
   "metadata": {},
   "outputs": [],
   "source": [
    "# Setting the nodes\n",
    "tus_dag <- empty.graph(nodes = c(\"A\", \"S\", \"E\", \"O\", \"R\", \"T\"))\n",
    "\n",
    "# Setting the arc (the edges)\n",
    "tus_dag <- set.arc(tus_dag, from = \"A\", to = \"E\")\n",
    "tus_dag <- set.arc(tus_dag, from = \"S\", to = \"E\")\n",
    "tus_dag <- set.arc(tus_dag, from = \"E\", to = \"O\")\n",
    "tus_dag <- set.arc(tus_dag, from = \"E\", to = \"R\")\n",
    "tus_dag <- set.arc(tus_dag, from = \"O\", to = \"T\")\n",
    "tus_dag <- set.arc(tus_dag, from = \"R\", to = \"T\")\n",
    "\n",
    "survey <- read.table(\"./dataset/survey.txt\", header = TRUE, stringsAsFactors = TRUE)\n",
    "graphviz.plot(tus_dag)"
   ]
  },
  {
   "cell_type": "code",
   "execution_count": null,
   "metadata": {},
   "outputs": [],
   "source": [
    "# This function should compute the best survey model and plot it but it does not work right now\n",
    "# graphviz.plot(K2(c(\"A\", \"S\", \"E\", \"O\", \"R\", \"T\"),survey,3))"
   ]
  },
  {
   "cell_type": "markdown",
   "metadata": {},
   "source": [
    "## 2. Implement and test the K2 algorithm with the test data sets ([2]).  Investigate if it is possible to code it inside the bnstruct R package "
   ]
  },
  {
   "cell_type": "code",
   "execution_count": 3,
   "metadata": {},
   "outputs": [
    {
     "name": "stderr",
     "output_type": "stream",
     "text": [
      "Loading required package: bitops\n",
      "\n",
      "Loading required package: igraph\n",
      "\n",
      "\n",
      "Attaching package: ‘igraph’\n",
      "\n",
      "\n",
      "The following objects are masked from ‘package:stats’:\n",
      "\n",
      "    decompose, spectrum\n",
      "\n",
      "\n",
      "The following object is masked from ‘package:base’:\n",
      "\n",
      "    union\n",
      "\n",
      "\n"
     ]
    }
   ],
   "source": [
    "#install.packages(\"bnstruct\")\n",
    "library(bnstruct)"
   ]
  },
  {
   "cell_type": "code",
   "execution_count": 37,
   "metadata": {},
   "outputs": [
    {
     "name": "stdout",
     "output_type": "stream",
     "text": [
      "   X1 X2 X3\n",
      "1   1  0  0\n",
      "2   1  1  1\n",
      "3   0  0  1\n",
      "4   1  1  1\n",
      "5   0  0  0\n",
      "6   0  1  1\n",
      "7   1  1  1\n",
      "8   0  0  0\n",
      "9   1  1  1\n",
      "10  0  0  0\n"
     ]
    },
    {
     "name": "stderr",
     "output_type": "stream",
     "text": [
      "Warning message in validityMethod(object):\n",
      "“ Not all of the possible values have been observed for variables  2 3 4”\n",
      "Warning message in validityMethod(object):\n",
      "“ Not all of the possible values have been observed for variables  2 3 4”\n",
      "Warning message in validityMethod(object):\n",
      "“ Not all of the possible values have been observed for variables  2 3 4”\n",
      "Warning message in validityMethod(object):\n",
      "“ Not all of the possible values have been observed for variables  2 3 4”\n"
     ]
    }
   ],
   "source": [
    "ex <- read.table(\"./dataset/cooper.txt\", header = TRUE, stringsAsFactors = TRUE)\n",
    "print(ex)\n",
    "ex <- c(1:16)\n",
    "exa <- matrix(ex, nrow = 4, ncol = 4)\n",
    "dataset <- BNDataset(data = exa,discreteness = rep('d',4),variables = c(\"a\", \"b\", \"c\", \"d\"), node.sizes = c(4,8,12,16))\n",
    "#dataset <- read.dataset(dataset, \"file.header\", \"file.data\")\n",
    "bn <- BN(dataset)\n",
    "test_engine <- InferenceEngine(bn)\n",
    "#initialize(test_net)"
   ]
  },
  {
   "cell_type": "code",
   "execution_count": 39,
   "metadata": {},
   "outputs": [
    {
     "data": {
      "text/plain": [
       "\n",
       "Junction Tree with 4 cliques \n",
       " ( 1) ( 2) ( 3) ( 4) \n",
       "\n",
       "Adjacency matrix:\n",
       "     ( 1) ( 2) ( 3) ( 4)\n",
       "( 1)    0    0    0    0\n",
       "( 2)    0    0    0    0\n",
       "( 3)    0    0    0    0\n",
       "( 4)    0    0    0    0"
      ]
     },
     "metadata": {},
     "output_type": "display_data"
    },
    {
     "ename": "ERROR",
     "evalue": "Error in (function (classes, fdef, mtable) : unable to find an inherited method for function ‘em’ for signature ‘\"InferenceEngine\", \"missing\"’\n",
     "output_type": "error",
     "traceback": [
      "Error in (function (classes, fdef, mtable) : unable to find an inherited method for function ‘em’ for signature ‘\"InferenceEngine\", \"missing\"’\nTraceback:\n",
      "1. em(test_engine)",
      "2. (function (classes, fdef, mtable) \n . {\n .     methods <- .findInheritedMethods(classes, fdef, mtable)\n .     if (length(methods) == 1L) \n .         return(methods[[1L]])\n .     else if (length(methods) == 0L) {\n .         cnames <- paste0(\"\\\"\", vapply(classes, as.character, \n .             \"\"), \"\\\"\", collapse = \", \")\n .         stop(gettextf(\"unable to find an inherited method for function %s for signature %s\", \n .             sQuote(fdef@generic), sQuote(cnames)), domain = NA)\n .     }\n .     else stop(\"Internal error in finding inherited methods; didn't return a unique method\", \n .         domain = NA)\n . })(list(structure(\"InferenceEngine\", package = \"bnstruct\"), structure(\"missing\", package = \"methods\")), \n .     new(\"nonstandardGenericFunction\", .Data = function (x, dataset, \n .         threshold = 0.001, max.em.iterations = 10, ess = 1) \n .     {\n .         standardGeneric(\"em\")\n .     }, generic = structure(\"em\", package = \"bnstruct\"), package = \"bnstruct\", \n .         group = list(), valueClass = character(0), signature = c(\"x\", \n .         \"dataset\", \"threshold\", \"max.em.iterations\", \"ess\"), \n .         default = NULL, skeleton = (function (x, dataset, threshold = 0.001, \n .             max.em.iterations = 10, ess = 1) \n .         stop(\"invalid call in method dispatch to 'em' (no default method)\", \n .             domain = NA))(x, dataset, threshold, max.em.iterations, \n .             ess)), <environment>)",
      "3. stop(gettextf(\"unable to find an inherited method for function %s for signature %s\", \n .     sQuote(fdef@generic), sQuote(cnames)), domain = NA)"
     ]
    }
   ],
   "source": [
    "test_engine\n",
    "em(test_engine)"
   ]
  },
  {
   "cell_type": "markdown",
   "metadata": {},
   "source": [
    "## References\n",
    "[1] G. F. Cooper and E. Herskovits, A Bayesian Method for the Induction of Probabilistic Networks from Data, Machine Learning 9, (1992) 309\\\n",
    "[2] C. Ruiz,Illustration of the K2 Algorithm for learning Bayes Net Structures, http://web.cs.wpi.edu/~cs539/s11/Projects/k2_algorithm.pdf"
   ]
  },
  {
   "cell_type": "code",
   "execution_count": null,
   "metadata": {},
   "outputs": [],
   "source": []
  }
 ],
 "metadata": {
  "kernelspec": {
   "display_name": "R",
   "language": "R",
   "name": "ir"
  },
  "language_info": {
   "codemirror_mode": "r",
   "file_extension": ".r",
   "mimetype": "text/x-r-source",
   "name": "R",
   "pygments_lexer": "r",
   "version": "3.6.3"
  }
 },
 "nbformat": 4,
 "nbformat_minor": 5
}